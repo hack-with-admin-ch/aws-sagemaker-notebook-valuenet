{
 "cells": [
  {
   "cell_type": "markdown",
   "id": "263305a0",
   "metadata": {},
   "source": [
    "# Initialization"
   ]
  },
  {
   "cell_type": "markdown",
   "id": "8c885097",
   "metadata": {},
   "source": [
    "Change to `valuenet` directory and add `src` path to `PYTHONPATH`."
   ]
  },
  {
   "cell_type": "code",
   "execution_count": null,
   "id": "9aa949ba",
   "metadata": {},
   "outputs": [],
   "source": [
    "%cd /home/ec2-user/SageMaker/valuenetforked"
   ]
  },
  {
   "cell_type": "code",
   "execution_count": null,
   "id": "3dded6ea",
   "metadata": {},
   "outputs": [],
   "source": [
    "import sys\n",
    "sys.path.insert(0, '/home/ec2-user/SageMaker/valuenetforked/src')"
   ]
  },
  {
   "cell_type": "markdown",
   "id": "5771e2ca",
   "metadata": {},
   "source": [
    "Read environment"
   ]
  },
  {
   "cell_type": "code",
   "execution_count": null,
   "id": "306344f6",
   "metadata": {},
   "outputs": [],
   "source": [
    "NER_API_SECRET=%env NER_API_SECRET\n",
    "API_KEY=%env API_KEY\n",
    "DB_USER=%env DB_USER\n",
    "DB_PW=%env DB_PW\n",
    "DB_HOST=%env DB_HOST\n",
    "DB_PORT=%env DB_PORT\n",
    "DB_SCHEMA=\"public\""
   ]
  },
  {
   "cell_type": "markdown",
   "id": "65a8d539",
   "metadata": {},
   "source": [
    "# Train Model"
   ]
  },
  {
   "cell_type": "markdown",
   "id": "66054e4c",
   "metadata": {},
   "source": [
    "Here also, we follow the [user manual from Valuenet](https://github.com/brunnurs/valuenet)."
   ]
  },
  {
   "cell_type": "code",
   "execution_count": null,
   "id": "7a5e4ed8",
   "metadata": {},
   "outputs": [],
   "source": [
    "# Empty gpu use\n",
    "import torch, gc\n",
    "gc.collect()\n",
    "torch.cuda.empty_cache()"
   ]
  },
  {
   "cell_type": "code",
   "execution_count": null,
   "id": "fa486ca5",
   "metadata": {},
   "outputs": [],
   "source": [
    "!nvidia-smi\n",
    "# kill -9 PID"
   ]
  },
  {
   "cell_type": "markdown",
   "id": "6bb76ddf",
   "metadata": {},
   "source": [
    "## Training data"
   ]
  },
  {
   "cell_type": "markdown",
   "id": "ace99d2a",
   "metadata": {},
   "source": [
    "The data that will be used for training is located in the files\n",
    "- valuenet/data/**dataset**/train.json\n",
    "- valuenet/data/**dataset**/dev.json\n",
    "\n",
    "with **dataset** being either hack_zurich or spider."
   ]
  },
  {
   "cell_type": "markdown",
   "id": "f99baa1f",
   "metadata": {},
   "source": [
    "### Option A: Train with Spider dataset"
   ]
  },
  {
   "cell_type": "code",
   "execution_count": null,
   "id": "87639e4c",
   "metadata": {},
   "outputs": [],
   "source": [
    "data_set = 'spider'"
   ]
  },
  {
   "cell_type": "markdown",
   "id": "ade6592e",
   "metadata": {},
   "source": [
    "### Option B: Train with Custom Data only"
   ]
  },
  {
   "cell_type": "markdown",
   "id": "d939a2de",
   "metadata": {},
   "source": [
    "Create your custom data and preprocess it following the steps of [preprocess_custom_data-01.ipynb](https://github.com/hack-with-admin-ch/aws-sagemaker-notebook-valuenet/blob/main/preprocess_custom_data-01.ipynb). \n",
    "\n",
    "Then, set dataset to 'hack_zurich' (as the cell below). "
   ]
  },
  {
   "cell_type": "code",
   "execution_count": null,
   "id": "2e88aa4a",
   "metadata": {},
   "outputs": [],
   "source": [
    "data_set = 'hack_zurich'"
   ]
  },
  {
   "cell_type": "markdown",
   "id": "b6e27e70",
   "metadata": {},
   "source": [
    "### Option C: Train with Spider Dataset and the Custom Data"
   ]
  },
  {
   "cell_type": "markdown",
   "id": "6b8f38a2",
   "metadata": {},
   "source": [
    "In this case, merge your custom data and spider data together in one json fole for train and one for dev:\n",
    "- valuenet/data/hack_zurich/train.json\n",
    "- valuenet/data/hack_zurich/dev.json"
   ]
  },
  {
   "cell_type": "code",
   "execution_count": null,
   "id": "3ca28097",
   "metadata": {},
   "outputs": [],
   "source": [
    "data_set = 'hack_zurich'"
   ]
  },
  {
   "cell_type": "markdown",
   "id": "f68c9798",
   "metadata": {},
   "source": [
    "## Hyperparameters"
   ]
  },
  {
   "cell_type": "markdown",
   "id": "51beef70",
   "metadata": {},
   "source": [
    "Here, we set a few parameters but do not hesitate to look at [training parameters](https://github.com/brunnurs/valuenet/blob/hackzurich/src/config.py) if you want to specify other settings."
   ]
  },
  {
   "cell_type": "code",
   "execution_count": null,
   "id": "1931dee3",
   "metadata": {},
   "outputs": [],
   "source": [
    "# data_set = 'hack_zurich', (or 'spider') already specified above\n",
    "exp_name = \"train-fine_tune\" # Name of the training (saved in wandb and folder name in experiments)\n",
    "batch_size = 2 # make it smaller if you encounter memory limitations \n",
    "num_epochs = 40"
   ]
  },
  {
   "cell_type": "markdown",
   "id": "1095f479",
   "metadata": {},
   "source": [
    "## Training procedure"
   ]
  },
  {
   "cell_type": "markdown",
   "id": "35134420",
   "metadata": {},
   "source": [
    "**Results and final model**:\n",
    "After training, you will be able to find the ground truth data, output of the model, evaluation results and intermediary data in the folder `valuenet/experiments/{exp_name}_date_time`.\n",
    "If the accuracy was better than the last best accuracy, the model is also saved in the folder as `\"best_model.pt\"`."
   ]
  },
  {
   "cell_type": "markdown",
   "id": "7f4dac71",
   "metadata": {},
   "source": [
    "### Train from scratch\n",
    "From scratch (with exception of the transformer encoder, which is already pre-trained)."
   ]
  },
  {
   "cell_type": "code",
   "execution_count": null,
   "id": "a83a8038",
   "metadata": {},
   "outputs": [],
   "source": [
    "%run src/main.py --exp_name {exp_name} --data_set {data_set} --cuda --batch_size {batch_size} --num_epochs {num_epochs} --loss_epoch_threshold 70 --sketch_loss_weight 1.0 --beam_size 1 --seed 90"
   ]
  },
  {
   "cell_type": "markdown",
   "id": "d2311da7",
   "metadata": {},
   "source": [
    "### Fine-tune a pretrained model"
   ]
  },
  {
   "cell_type": "markdown",
   "id": "347af660",
   "metadata": {},
   "source": [
    "This will only train on the custom data starting from the weights of the fully pretrained model with spider dataset."
   ]
  },
  {
   "cell_type": "markdown",
   "id": "6eaf57ab",
   "metadata": {},
   "source": [
    "First download the best model so far: `best_model.pt` that was trained on the spider dataset."
   ]
  },
  {
   "cell_type": "code",
   "execution_count": null,
   "id": "bf2005bc",
   "metadata": {},
   "outputs": [],
   "source": [
    "!wget https://github.com/brunnurs/valuenet/releases/download/trained_model/best_model.pt\n",
    "!mv best_model.pt pretrained_models/best_model.pt"
   ]
  },
  {
   "cell_type": "markdown",
   "id": "c85c95da",
   "metadata": {},
   "source": [
    "You probably want to decrease the learning weights. (Note: The weights are not frozen in the current implementation. You have to choose the one you want to freeze and do it yourself if you want to)."
   ]
  },
  {
   "cell_type": "code",
   "execution_count": null,
   "id": "38b77f40",
   "metadata": {},
   "outputs": [],
   "source": [
    "# As an indication, these are the default learning weights divided by 10 (this was not optimised, feel free to modify !)\n",
    "lr_base = 1e-3/10\n",
    "lr_connection = 1e-4/10\n",
    "lr_transformer = 2e-5/10"
   ]
  },
  {
   "cell_type": "markdown",
   "id": "7a5c2345",
   "metadata": {},
   "source": [
    "Now, you can continue the training from the weights of the `best_model.pt`."
   ]
  },
  {
   "cell_type": "code",
   "execution_count": null,
   "id": "d2f3b325",
   "metadata": {},
   "outputs": [],
   "source": [
    "%run src/main.py --exp_name {exp_name} --data_set {data_set} --fine_tuning --cuda --batch_size {batch_size} --num_epochs {num_epochs} --loss_epoch_threshold 70 --sketch_loss_weight 1.0 --beam_size 1 --seed 90 --lr_base {lr_base} --lr_connection {lr_connection} --lr_transformer {lr_transformer}"
   ]
  },
  {
   "cell_type": "code",
   "execution_count": null,
   "id": "36a3cec2",
   "metadata": {},
   "outputs": [],
   "source": []
  }
 ],
 "metadata": {
  "kernelspec": {
   "display_name": "conda_valuenet",
   "language": "python",
   "name": "conda_valuenet"
  },
  "language_info": {
   "codemirror_mode": {
    "name": "ipython",
    "version": 3
   },
   "file_extension": ".py",
   "mimetype": "text/x-python",
   "name": "python",
   "nbconvert_exporter": "python",
   "pygments_lexer": "ipython3",
   "version": "3.8.12"
  }
 },
 "nbformat": 4,
 "nbformat_minor": 5
}
