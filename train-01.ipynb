{
 "cells": [
  {
   "cell_type": "markdown",
   "id": "ff1dc796",
   "metadata": {},
   "source": [
    "# Initialization"
   ]
  },
  {
   "cell_type": "markdown",
   "id": "c57a51e6",
   "metadata": {},
   "source": [
    "Change to `valuenet` directory and add `src` path to `PYTHONPATH`."
   ]
  },
  {
   "cell_type": "code",
   "execution_count": null,
   "id": "bed8676a",
   "metadata": {},
   "outputs": [],
   "source": [
    "%cd /home/ec2-user/SageMaker/valunet_clean"
   ]
  },
  {
   "cell_type": "code",
   "execution_count": 2,
   "id": "aba988e9",
   "metadata": {},
   "outputs": [],
   "source": [
    "import sys\n",
    "sys.path.insert(0, '/home/ec2-user/SageMaker/valunet_clean/src')"
   ]
  },
  {
   "cell_type": "markdown",
   "id": "6744cf2c",
   "metadata": {},
   "source": [
    "# Train Model"
   ]
  },
  {
   "cell_type": "markdown",
   "id": "e87775f0",
   "metadata": {},
   "source": [
    "Here also, we follow the [user manual from Valuenet](https://github.com/brunnurs/valuenet)."
   ]
  },
  {
   "cell_type": "code",
   "execution_count": null,
   "id": "224f7f95",
   "metadata": {},
   "outputs": [],
   "source": [
    "# Empty gpu use, might be useful to 'clean' your memory\n",
    "import torch, gc\n",
    "gc.collect()\n",
    "torch.cuda.empty_cache()"
   ]
  },
  {
   "cell_type": "code",
   "execution_count": null,
   "id": "4022fe91",
   "metadata": {},
   "outputs": [],
   "source": [
    "!nvidia-smi\n",
    "# kill -9 PID"
   ]
  },
  {
   "cell_type": "markdown",
   "id": "b2f3ebd7",
   "metadata": {},
   "source": [
    "## Training data"
   ]
  },
  {
   "cell_type": "markdown",
   "id": "89dbfc15",
   "metadata": {},
   "source": [
    "The data that will be used for training is located in the files\n",
    "- valuenet/data/**dataset**/train.json\n",
    "- valuenet/data/**dataset**/dev.json\n",
    "\n",
    "with **dataset** being either hack_zurich or spider."
   ]
  },
  {
   "cell_type": "markdown",
   "id": "3bab6d12",
   "metadata": {},
   "source": [
    "### Option A: Train with Spider dataset"
   ]
  },
  {
   "cell_type": "code",
   "execution_count": 3,
   "id": "ede162e9",
   "metadata": {},
   "outputs": [],
   "source": [
    "data_set = 'spider'"
   ]
  },
  {
   "cell_type": "markdown",
   "id": "5d57569c",
   "metadata": {},
   "source": [
    "### Option B: Train with Custom Data only"
   ]
  },
  {
   "cell_type": "markdown",
   "id": "d2358f38",
   "metadata": {},
   "source": [
    "Create your custom data and preprocess it following the steps of [preprocess_custom_data-01.ipynb](https://github.com/hack-with-admin-ch/aws-sagemaker-notebook-valuenet/blob/main/preprocess_custom_data-01.ipynb). \n",
    "\n",
    "Then, set dataset to 'hack_zurich' (as the cell below). "
   ]
  },
  {
   "cell_type": "code",
   "execution_count": null,
   "id": "0b39c01e",
   "metadata": {},
   "outputs": [],
   "source": [
    "data_set = 'hack_zurich'"
   ]
  },
  {
   "cell_type": "markdown",
   "id": "4c6031b6",
   "metadata": {},
   "source": [
    "### Option C: Train with Spider Dataset and the Custom Data"
   ]
  },
  {
   "cell_type": "markdown",
   "id": "d71e9eac",
   "metadata": {},
   "source": [
    "In this case, merge your custom data and spider data together in one json file for train, one for dev and one for the tables:\n",
    "Concatenate\n",
    "- valuenet/data/hack_zurich/train.json with valuenet/data/spider/train.json\n",
    "- valuenet/data/hack_zurich/dev.json with valuenet/data/spider/dev.json\n",
    "- valuenet/data/hack_zurich/original/tables.json with valuenet/data/spider/original/tables.json\n",
    "\n",
    "and save the merged files in hack_zurich valuenet/data/hack_zurich/train.json, valuenet/data/hack_zurich/dev.json and valuenet/data/hack_zurich/original/tables.json."
   ]
  },
  {
   "cell_type": "markdown",
   "id": "327b8a4c",
   "metadata": {},
   "source": [
    "As fine-tuning was never experimented with the Valuenet codebase, it is the safest way to train a model which will perform better on custom data."
   ]
  },
  {
   "cell_type": "code",
   "execution_count": null,
   "id": "f01d5f10",
   "metadata": {},
   "outputs": [],
   "source": [
    "data_set = 'hack_zurich'"
   ]
  },
  {
   "cell_type": "markdown",
   "id": "5df4e808",
   "metadata": {},
   "source": [
    "## Training procedure"
   ]
  },
  {
   "cell_type": "markdown",
   "id": "b1c7a5d4",
   "metadata": {},
   "source": [
    "**Hyperparameters**:\n",
    "Here, we set a few parameters but do not hesitate to look at [training parameters](https://github.com/brunnurs/valuenet/blob/hackzurich/src/config.py) if you want to specify other settings."
   ]
  },
  {
   "cell_type": "markdown",
   "id": "b4dbbec1",
   "metadata": {},
   "source": [
    "Train from scratch (with exception of the transformer encoder, which is already pre-trained). Fine-tuning was never implemented with valuent, feel free to try !"
   ]
  },
  {
   "cell_type": "code",
   "execution_count": 2,
   "id": "41d6d580",
   "metadata": {},
   "outputs": [],
   "source": [
    "exp_name = \"train-01\" # Name of the training (saved in wandb and folder name in experiments)\n",
    "batch_size = 8 # make it smaller if you encounter memory limitations \n",
    "num_epochs = 40"
   ]
  },
  {
   "cell_type": "code",
   "execution_count": null,
   "id": "96274707",
   "metadata": {},
   "outputs": [],
   "source": [
    "%run src/main.py --exp_name {exp_name} --data_set {data_set} --cuda --batch_size {batch_size} --num_epochs {num_epochs}"
   ]
  },
  {
   "cell_type": "markdown",
   "id": "4aa77f70",
   "metadata": {},
   "source": [
    "**Results and final model**:\n",
    "After training, you will be able to find the ground truth data, output of the model, evaluation results and intermediary data in the folder `valuenet/experiments/{exp_name}_date_time`.\n",
    "If the accuracy was better than the last best accuracy, the model is also saved in the folder as `\"best_model.pt\"`."
   ]
  }
 ],
 "metadata": {
  "kernelspec": {
   "display_name": "conda_valuenet",
   "language": "python",
   "name": "conda_valuenet"
  },
  "language_info": {
   "codemirror_mode": {
    "name": "ipython",
    "version": 3
   },
   "file_extension": ".py",
   "mimetype": "text/x-python",
   "name": "python",
   "nbconvert_exporter": "python",
   "pygments_lexer": "ipython3",
   "version": "3.8.12"
  }
 },
 "nbformat": 4,
 "nbformat_minor": 5
}
