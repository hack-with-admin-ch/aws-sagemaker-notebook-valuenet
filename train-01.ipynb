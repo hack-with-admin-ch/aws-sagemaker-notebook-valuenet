{
 "cells": [
  {
   "cell_type": "markdown",
   "id": "8d816980",
   "metadata": {},
   "source": [
    "# Initialization"
   ]
  },
  {
   "cell_type": "markdown",
   "id": "abcd2a06",
   "metadata": {},
   "source": [
    "Change to `valuenet` directory and add `src` path to `PYTHONPATH`."
   ]
  },
  {
   "cell_type": "code",
   "execution_count": null,
   "id": "5ae94e62",
   "metadata": {},
   "outputs": [],
   "source": [
    "%cd /home/ec2-user/SageMaker/valuenet"
   ]
  },
  {
   "cell_type": "code",
   "execution_count": null,
   "id": "08f84684",
   "metadata": {},
   "outputs": [],
   "source": [
    "import sys\n",
    "sys.path.insert(0, '/home/ec2-user/SageMaker/valuenet/src')\n",
    "sys.path"
   ]
  },
  {
   "cell_type": "markdown",
   "id": "fb0b974c",
   "metadata": {},
   "source": [
    "Read environment"
   ]
  },
  {
   "cell_type": "code",
   "execution_count": null,
   "id": "72de52c4",
   "metadata": {},
   "outputs": [],
   "source": [
    "NER_API_SECRET=%env NER_API_SECRET\n",
    "API_KEY=%env API_KEY\n",
    "DB_USER=%env DB_USER\n",
    "DB_PW=%env DB_PW\n",
    "DB_HOST=%env DB_HOST\n",
    "DB_PORT=%env DB_PORT\n",
    "DB_SCHEMA=\"public\""
   ]
  },
  {
   "cell_type": "markdown",
   "id": "48432aff",
   "metadata": {},
   "source": [
    "# Train Model"
   ]
  },
  {
   "cell_type": "code",
   "execution_count": null,
   "id": "778e24b9",
   "metadata": {},
   "outputs": [],
   "source": [
    "# Empty gpu use\n",
    "import torch, gc\n",
    "gc.collect()\n",
    "torch.cuda.empty_cache()"
   ]
  },
  {
   "cell_type": "code",
   "execution_count": null,
   "id": "3dd07ecd",
   "metadata": {},
   "outputs": [],
   "source": [
    "exp_name = \"train-01\""
   ]
  },
  {
   "cell_type": "markdown",
   "id": "ab2240c8",
   "metadata": {},
   "source": [
    "**Results and final model**:\n",
    "After training, you will be able to find the ground truth data, output of the model, evaluation results and intermediary data in the folder `valuenet/experiments/{exp_name}_date_time`.\n",
    "If the accuracy was better than the last best accuracy, the model is also saved in the folder as `\"best_model.pt\"`.\n",
    "\n",
    "**Note**: There will be errors of the type below. It is expected and normal.\n",
    "\n",
    "    Exception\n",
    "        Traceback (most recent call last):\n",
    "            File \"/home/ec2-user/SageMaker/valuenetforked/src/intermediate_representation/sem2sql/sem2SQL.py\", line 691, in transform_semQL_to_sql\n",
    "                result = transform(sem_ql_prediction[i], schemas[sem_ql_prediction[i]['db_id']])\n",
    "            File \"/home/ec2-user/SageMaker/valuenetforked/src/intermediate_representation/sem2sql/sem2SQL.py\", line 246, in transform\n",
    "        assert isinstance(c_instance, Root1)\n",
    "    AssertionError"
   ]
  },
  {
   "cell_type": "code",
   "execution_count": null,
   "id": "557476f7",
   "metadata": {},
   "outputs": [],
   "source": [
    "%run src/main.py --exp_name {exp_name} --data_set hack_zurich --cuda --batch_size 1 --num_epochs 5 --loss_epoch_threshold 70 --sketch_loss_weight 1.0 --beam_size 1 --seed 90"
   ]
  },
  {
   "cell_type": "code",
   "execution_count": null,
   "id": "01168994",
   "metadata": {},
   "outputs": [],
   "source": []
  },
  {
   "cell_type": "code",
   "execution_count": null,
   "id": "d22c620c",
   "metadata": {},
   "outputs": [],
   "source": []
  }
 ],
 "metadata": {
  "kernelspec": {
   "display_name": "conda_valuenet",
   "language": "python",
   "name": "conda_valuenet"
  },
  "language_info": {
   "codemirror_mode": {
    "name": "ipython",
    "version": 3
   },
   "file_extension": ".py",
   "mimetype": "text/x-python",
   "name": "python",
   "nbconvert_exporter": "python",
   "pygments_lexer": "ipython3",
   "version": "3.8.12"
  }
 },
 "nbformat": 4,
 "nbformat_minor": 5
}
