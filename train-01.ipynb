{
 "cells": [
  {
   "cell_type": "markdown",
   "id": "3fb5b46c",
   "metadata": {},
   "source": [
    "# Initialization"
   ]
  },
  {
   "cell_type": "markdown",
   "id": "81918127",
   "metadata": {},
   "source": [
    "Change to `valuenet` directory and add `src` path to `PYTHONPATH`."
   ]
  },
  {
   "cell_type": "code",
   "execution_count": null,
   "id": "fd3bd1d4",
   "metadata": {},
   "outputs": [],
   "source": [
    "%cd /home/ec2-user/SageMaker/valuenetforked"
   ]
  },
  {
   "cell_type": "code",
   "execution_count": null,
   "id": "0af9e86d",
   "metadata": {},
   "outputs": [],
   "source": [
    "import sys\n",
    "sys.path.insert(0, '/home/ec2-user/SageMaker/valuenetforked/src')\n",
    "sys.path"
   ]
  },
  {
   "cell_type": "markdown",
   "id": "69cbd20b",
   "metadata": {},
   "source": [
    "Read environment"
   ]
  },
  {
   "cell_type": "code",
   "execution_count": null,
   "id": "29d882be",
   "metadata": {},
   "outputs": [],
   "source": [
    "NER_API_SECRET=%env NER_API_SECRET\n",
    "API_KEY=%env API_KEY\n",
    "DB_USER=%env DB_USER\n",
    "DB_PW=%env DB_PW\n",
    "DB_HOST=%env DB_HOST\n",
    "DB_PORT=%env DB_PORT\n",
    "DB_SCHEMA=\"public\""
   ]
  },
  {
   "cell_type": "markdown",
   "id": "3df70fa7",
   "metadata": {},
   "source": [
    "# Train Model"
   ]
  },
  {
   "cell_type": "markdown",
   "id": "ee2e233a",
   "metadata": {},
   "source": [
    "Here also, we follow the [user manual from Valuenet](https://github.com/brunnurs/valuenet)."
   ]
  },
  {
   "cell_type": "code",
   "execution_count": null,
   "id": "b888a422",
   "metadata": {},
   "outputs": [],
   "source": [
    "# Empty gpu use\n",
    "import torch, gc\n",
    "gc.collect()\n",
    "torch.cuda.empty_cache()"
   ]
  },
  {
   "cell_type": "code",
   "execution_count": null,
   "id": "2b52db41",
   "metadata": {},
   "outputs": [],
   "source": [
    "!nvidia-smi\n",
    "# kill -9 PID"
   ]
  },
  {
   "cell_type": "markdown",
   "id": "9bc59429",
   "metadata": {},
   "source": [
    "## Training data"
   ]
  },
  {
   "cell_type": "markdown",
   "id": "1edbeed8",
   "metadata": {},
   "source": [
    "The data that will be used for training is located in the files\n",
    "- valuenet/data/**dataset**/train.json\n",
    "- valuenet/data/**dataset**/dev.json\n",
    "\n",
    "with **dataset** being either hack_zurich or spider."
   ]
  },
  {
   "cell_type": "markdown",
   "id": "33a9a076",
   "metadata": {},
   "source": [
    "### Train with Spider dataset"
   ]
  },
  {
   "cell_type": "markdown",
   "id": "10574c5f",
   "metadata": {},
   "source": [
    "<span style=\"color:red\">**TODO: test it**</span> need to get the sqlite db"
   ]
  },
  {
   "cell_type": "markdown",
   "id": "66e8742d",
   "metadata": {},
   "source": [
    "Add the spider sqlite database in # TODO. Then set dataset to 'spider' (as the cell below)."
   ]
  },
  {
   "cell_type": "code",
   "execution_count": null,
   "id": "ea68b56e",
   "metadata": {},
   "outputs": [],
   "source": [
    "data_set = 'spider'"
   ]
  },
  {
   "cell_type": "markdown",
   "id": "51855597",
   "metadata": {},
   "source": [
    "### Train with Custom Data only"
   ]
  },
  {
   "cell_type": "markdown",
   "id": "d14575f8",
   "metadata": {},
   "source": [
    "<span style=\"color:red\">Checked but **TODO: need PR to be merged**</span>"
   ]
  },
  {
   "cell_type": "markdown",
   "id": "cb239525",
   "metadata": {},
   "source": [
    "Create your custom data and preprocess it following the steps of [preprocess_custom_data-01.ipynb](https://github.com/hack-with-admin-ch/aws-sagemaker-notebook-valuenet/blob/main/preprocess_custom_data-01.ipynb), then set dataset to 'hack_zurich' (as the cell below)."
   ]
  },
  {
   "cell_type": "code",
   "execution_count": null,
   "id": "24777496",
   "metadata": {},
   "outputs": [],
   "source": [
    "data_set = 'hack_zurich'"
   ]
  },
  {
   "cell_type": "markdown",
   "id": "486511b2",
   "metadata": {},
   "source": [
    "### Train with Spider Dataset and the Custom Data"
   ]
  },
  {
   "cell_type": "markdown",
   "id": "8f6de083",
   "metadata": {},
   "source": [
    "<span style=\"color:red\">**TODO: test it**</span> there might be issues because it won't know which db to use"
   ]
  },
  {
   "cell_type": "markdown",
   "id": "1dfd98a1",
   "metadata": {},
   "source": [
    "In this case, merge your custom data and spider data together in one json fole for train and one for dev:\n",
    "- valuenet/data/hack_zurich/train.json\n",
    "- valuenet/data/hack_zurich/dev.json"
   ]
  },
  {
   "cell_type": "code",
   "execution_count": null,
   "id": "a8006ac2",
   "metadata": {},
   "outputs": [],
   "source": [
    "data_set = 'hack_zurich'"
   ]
  },
  {
   "cell_type": "markdown",
   "id": "57ffdb66",
   "metadata": {},
   "source": [
    "## Hyperparameters"
   ]
  },
  {
   "cell_type": "markdown",
   "id": "9f7e1557",
   "metadata": {},
   "source": [
    "Here, we set a few parameters but do not hesitate to look at [training parameters](https://github.com/brunnurs/valuenet/blob/hackzurich/src/config.py) if you want to specify other settings."
   ]
  },
  {
   "cell_type": "code",
   "execution_count": null,
   "id": "e53f080f",
   "metadata": {},
   "outputs": [],
   "source": [
    "# data_set = 'hack_zurich', (or 'spider') already specified above\n",
    "exp_name = \"train-01\" # Name of the training (saved in wandb and folder name in experiments)\n",
    "batch_size = 2 # make it smaller if you encounter memory limitations \n",
    "num_epochs = 2"
   ]
  },
  {
   "cell_type": "markdown",
   "id": "3931a945",
   "metadata": {},
   "source": [
    "## Training procedure"
   ]
  },
  {
   "cell_type": "markdown",
   "id": "1e33a8fc",
   "metadata": {},
   "source": [
    "**Results and final model**:\n",
    "After training, you will be able to find the ground truth data, output of the model, evaluation results and intermediary data in the folder `valuenet/experiments/{exp_name}_date_time`.\n",
    "If the accuracy was better than the last best accuracy, the model is also saved in the folder as `\"best_model.pt\"`.\n",
    "\n",
    "**Note**: There will be errors of the type below. It is expected and normal.\n",
    "\n",
    "    Exception\n",
    "        Traceback (most recent call last):\n",
    "            File \"/home/ec2-user/SageMaker/valuenetforked/src/intermediate_representation/sem2sql/sem2SQL.py\", line 691, in transform_semQL_to_sql\n",
    "                result = transform(sem_ql_prediction[i], schemas[sem_ql_prediction[i]['db_id']])\n",
    "            File \"/home/ec2-user/SageMaker/valuenetforked/src/intermediate_representation/sem2sql/sem2SQL.py\", line 246, in transform\n",
    "        assert isinstance(c_instance, Root1)\n",
    "    AssertionError"
   ]
  },
  {
   "cell_type": "markdown",
   "id": "1f6fc63a",
   "metadata": {},
   "source": [
    "### Train from scratch\n",
    "From scratch (with exception of the transformer encoder, which is already pre-trained)."
   ]
  },
  {
   "cell_type": "code",
   "execution_count": null,
   "id": "60d5a60c",
   "metadata": {},
   "outputs": [],
   "source": [
    "%run src/main.py --exp_name {exp_name} --data_set {data_set} --cuda --batch_size {batch_size} --num_epochs {num_epochs} --loss_epoch_threshold 70 --sketch_loss_weight 1.0 --beam_size 1 --seed 90"
   ]
  },
  {
   "cell_type": "markdown",
   "id": "cc68af48",
   "metadata": {},
   "source": [
    "### Fine-tune a pretrained model"
   ]
  },
  {
   "cell_type": "markdown",
   "id": "e0a7180a",
   "metadata": {},
   "source": [
    "This will only train on the custom data starting from the weights of the fully pretrained model with spider dataset."
   ]
  },
  {
   "cell_type": "markdown",
   "id": "6b52d7e8",
   "metadata": {},
   "source": [
    "First download the best model so far: `best_model.pt` that was trained on the spider dataset."
   ]
  },
  {
   "cell_type": "code",
   "execution_count": null,
   "id": "3cf62cbb",
   "metadata": {},
   "outputs": [],
   "source": [
    "!wget https://github.com/brunnurs/valuenet/releases/download/trained_model/best_model.pt\n",
    "!mv best_model.pt pretrained_models/best_model.pt"
   ]
  },
  {
   "cell_type": "markdown",
   "id": "f4f47a5a",
   "metadata": {},
   "source": [
    "You probably want to decrease the learning weights. (Note: The weights are not frozen in the current implementation. You have to choose the one you want to freeze and do it yourself if you want to)."
   ]
  },
  {
   "cell_type": "code",
   "execution_count": null,
   "id": "b4ccbd48",
   "metadata": {},
   "outputs": [],
   "source": [
    "# As an indication, these are the default learning weights divided by 10 (this was not optimised, feel free to modify !)\n",
    "lr_base = 1e-3/10\n",
    "lr_connection = 1e-4/10\n",
    "lr_transformer = 2e-5/10"
   ]
  },
  {
   "cell_type": "markdown",
   "id": "f04c80aa",
   "metadata": {},
   "source": [
    "Now, you can continue the training from the weights of the `best_model.pt`."
   ]
  },
  {
   "cell_type": "code",
   "execution_count": null,
   "id": "95d8e519",
   "metadata": {},
   "outputs": [],
   "source": [
    "%run src/main.py --exp_name {exp_name} --data_set {data_set} --fine_tuning --cuda --batch_size {batch_size} --num_epochs {num_epochs} --loss_epoch_threshold 70 --sketch_loss_weight 1.0 --beam_size 1 --seed 90 --lr_base {lr_base} --lr_connection {lr_connection} --lr_transformer {lr_transformer}"
   ]
  },
  {
   "cell_type": "code",
   "execution_count": null,
   "id": "fa67eea2",
   "metadata": {},
   "outputs": [],
   "source": []
  }
 ],
 "metadata": {
  "kernelspec": {
   "display_name": "conda_valuenet",
   "language": "python",
   "name": "conda_valuenet"
  },
  "language_info": {
   "codemirror_mode": {
    "name": "ipython",
    "version": 3
   },
   "file_extension": ".py",
   "mimetype": "text/x-python",
   "name": "python",
   "nbconvert_exporter": "python",
   "pygments_lexer": "ipython3",
   "version": "3.8.12"
  }
 },
 "nbformat": 4,
 "nbformat_minor": 5
}
