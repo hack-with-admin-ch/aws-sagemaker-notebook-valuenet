{
 "cells": [
  {
   "cell_type": "markdown",
   "id": "575e1390",
   "metadata": {},
   "source": [
    "# Initialization"
   ]
  },
  {
   "cell_type": "markdown",
   "id": "bbce3137",
   "metadata": {},
   "source": [
    "Change to `valuenet` directory and add `src` path to `PYTHONPATH`."
   ]
  },
  {
   "cell_type": "code",
   "execution_count": null,
   "id": "f12f0366",
   "metadata": {},
   "outputs": [],
   "source": [
    "%cd /home/ec2-user/SageMaker/valuenet"
   ]
  },
  {
   "cell_type": "code",
   "execution_count": null,
   "id": "8df23380",
   "metadata": {},
   "outputs": [],
   "source": [
    "import sys\n",
    "sys.path.insert(0, '/home/ec2-user/SageMaker/valuenet/src')\n",
    "sys.path"
   ]
  },
  {
   "cell_type": "markdown",
   "id": "d0fc3b94",
   "metadata": {},
   "source": [
    "Read environment"
   ]
  },
  {
   "cell_type": "code",
   "execution_count": null,
   "id": "5317fb98",
   "metadata": {},
   "outputs": [],
   "source": [
    "NER_API_SECRET=%env NER_API_SECRET\n",
    "API_KEY=%env API_KEY\n",
    "DB_USER=%env DB_USER\n",
    "DB_PW=%env DB_PW\n",
    "DB_HOST=%env DB_HOST\n",
    "DB_PORT=%env DB_PORT\n",
    "DB_SCHEMA=\"public\""
   ]
  },
  {
   "cell_type": "markdown",
   "id": "9d0f8a57",
   "metadata": {},
   "source": [
    "# Prepare & Preprocess Data"
   ]
  },
  {
   "cell_type": "markdown",
   "id": "3a79fa44",
   "metadata": {},
   "source": [
    "## Add your custom data"
   ]
  },
  {
   "cell_type": "markdown",
   "id": "e1f4eea2",
   "metadata": {},
   "source": [
    "TODO.."
   ]
  },
  {
   "cell_type": "markdown",
   "id": "ba278bb0",
   "metadata": {},
   "source": [
    "## Transform into Spider representation"
   ]
  },
  {
   "cell_type": "code",
   "execution_count": null,
   "id": "26933470",
   "metadata": {},
   "outputs": [],
   "source": [
    "%run src/tools/training_data_builder/training_data_builder.py --data hack_zurich"
   ]
  },
  {
   "cell_type": "markdown",
   "id": "9b39cdaf",
   "metadata": {},
   "source": [
    "You will now find your custom data in the two files [data/hack_zurich/original/train.json](data/hack_zurich/original/train.json) and [data/hack_zurich/original/dev.json](data/hack_zurich/original/dev.json)."
   ]
  },
  {
   "cell_type": "markdown",
   "id": "c4d52d2f",
   "metadata": {},
   "source": [
    "## Extract Value Candidates using Named Entity Recognition"
   ]
  },
  {
   "cell_type": "code",
   "execution_count": null,
   "id": "a5d51c59",
   "metadata": {},
   "outputs": [],
   "source": [
    "%run src/named_entity_recognition/api_ner/extract_values.py --data_path=data/hack_zurich/original/train.json --output_path=data/hack_zurich/ner_train.json --ner_api_secret={NER_API_SECRET}"
   ]
  },
  {
   "cell_type": "code",
   "execution_count": null,
   "id": "2e44ef21",
   "metadata": {},
   "outputs": [],
   "source": [
    "%run src/named_entity_recognition/api_ner/extract_values.py --data_path=data/hack_zurich/original/dev.json --output_path=data/hack_zurich/ner_dev.json --ner_api_secret={NER_API_SECRET}"
   ]
  },
  {
   "cell_type": "markdown",
   "id": "056cbcdc",
   "metadata": {},
   "source": [
    "## Extract the ground truth values from the SQL query"
   ]
  },
  {
   "cell_type": "code",
   "execution_count": null,
   "id": "36ff511c",
   "metadata": {},
   "outputs": [],
   "source": [
    "%run src/tools/get_values_from_sql.py --data_path data/hack_zurich/original/train.json --table_path data/hack_zurich/original/tables.json --ner_path data/hack_zurich/ner_train.json\n",
    "%run src/tools/get_values_from_sql.py --data_path data/hack_zurich/original/dev.json --table_path data/hack_zurich/original/tables.json --ner_path data/hack_zurich/ner_dev.json"
   ]
  },
  {
   "cell_type": "markdown",
   "id": "64ef3dce",
   "metadata": {},
   "source": [
    "This last script doesn't create a new file, but adds the ground truth values to the *ner_dev.json* and *ner_train.json* files, see the new attribute *values*:\n",
    "\n",
    "```json\n",
    "    \"values\": [\n",
    "      \"Wetzikon\",\n",
    "      \"2016\"\n",
    "    ]\n",
    "```"
   ]
  },
  {
   "cell_type": "markdown",
   "id": "a1b00656",
   "metadata": {},
   "source": [
    "## Pre-processing"
   ]
  },
  {
   "cell_type": "code",
   "execution_count": null,
   "id": "4607dcc5",
   "metadata": {},
   "outputs": [],
   "source": [
    "%run src/preprocessing/pre_process.py --data_path=data/hack_zurich/original/train.json --ner_data_path=data/hack_zurich/ner_train.json --table_path=data/hack_zurich/original/tables.json --output=data/hack_zurich/preprocessed_train.json --database_host={DB_HOST} --database_port={DB_PORT} --database_user={DB_USER} --database_password={DB_PW} --database_schema={DB_SCHEMA}"
   ]
  },
  {
   "cell_type": "code",
   "execution_count": null,
   "id": "40d2b84b",
   "metadata": {},
   "outputs": [],
   "source": [
    "%run src/preprocessing/pre_process.py --data_path=data/hack_zurich/original/dev.json --ner_data_path=data/hack_zurich/ner_dev.json --table_path=data/hack_zurich/original/tables.json --output=data/hack_zurich/preprocessed_dev.json --database_host={DB_HOST} --database_port={DB_PORT} --database_user={DB_USER} --database_password={DB_PW} --database_schema={DB_SCHEMA}"
   ]
  },
  {
   "cell_type": "markdown",
   "id": "fcb3be30",
   "metadata": {},
   "source": [
    "## Modelling JOINs and SQL-to-SemQL"
   ]
  },
  {
   "cell_type": "markdown",
   "id": "7df402ba",
   "metadata": {},
   "source": [
    "We start by modeling some JOINs as filters (minor importance, has most probably no effect on your data - you might skip it)"
   ]
  },
  {
   "cell_type": "code",
   "execution_count": null,
   "id": "215c6eaa",
   "metadata": {},
   "outputs": [],
   "source": [
    "%run src/preprocessing/model_joins_as_filter.py --data_path=data/hack_zurich/preprocessed_train.json --table_path=data/hack_zurich/original/tables.json --output=data/hack_zurich/preprocessed_with_joins_train.json "
   ]
  },
  {
   "cell_type": "code",
   "execution_count": null,
   "id": "06895f6d",
   "metadata": {},
   "outputs": [],
   "source": [
    "%run src/preprocessing/model_joins_as_filter.py --data_path=data/hack_zurich/preprocessed_dev.json --table_path=data/hack_zurich/original/tables.json --output=data/hack_zurich/preprocessed_with_joins_dev.json "
   ]
  },
  {
   "cell_type": "markdown",
   "id": "4df848fc",
   "metadata": {},
   "source": [
    "And then transform SQL to SemQL"
   ]
  },
  {
   "cell_type": "code",
   "execution_count": null,
   "id": "590794cf",
   "metadata": {},
   "outputs": [],
   "source": [
    "%run src/preprocessing/sql2SemQL.py --data_path data/hack_zurich/preprocessed_with_joins_train.json --table_path data/hack_zurich/original/tables.json --output data/hack_zurich/train.json"
   ]
  },
  {
   "cell_type": "code",
   "execution_count": null,
   "id": "c2ff3451",
   "metadata": {},
   "outputs": [],
   "source": [
    "%run src/preprocessing/sql2SemQL.py --data_path data/hack_zurich/preprocessed_with_joins_dev.json --table_path data/hack_zurich/original/tables.json --output data/hack_zurich/dev.json "
   ]
  },
  {
   "cell_type": "markdown",
   "id": "f345669a",
   "metadata": {},
   "source": [
    "# Train Model"
   ]
  },
  {
   "cell_type": "code",
   "execution_count": null,
   "id": "187c02b3",
   "metadata": {},
   "outputs": [],
   "source": [
    "exp_name=\"train-01\""
   ]
  },
  {
   "cell_type": "code",
   "execution_count": null,
   "id": "cbd51317",
   "metadata": {},
   "outputs": [],
   "source": [
    "%run src/main.py --exp_name {exp_name} --cuda --batch_size 8 --num_epochs 5 --loss_epoch_threshold 70 --sketch_loss_weight 1.0 --beam_size 1 --seed 90"
   ]
  },
  {
   "cell_type": "code",
   "execution_count": null,
   "id": "c6ee4df9",
   "metadata": {},
   "outputs": [],
   "source": []
  }
 ],
 "metadata": {
  "kernelspec": {
   "display_name": "conda_valuenet",
   "language": "python",
   "name": "conda_valuenet"
  },
  "language_info": {
   "codemirror_mode": {
    "name": "ipython",
    "version": 3
   },
   "file_extension": ".py",
   "mimetype": "text/x-python",
   "name": "python",
   "nbconvert_exporter": "python",
   "pygments_lexer": "ipython3",
   "version": "3.8.12"
  }
 },
 "nbformat": 4,
 "nbformat_minor": 5
}
