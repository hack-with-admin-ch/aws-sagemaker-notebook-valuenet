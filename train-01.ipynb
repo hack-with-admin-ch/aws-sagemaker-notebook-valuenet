{
 "cells": [
  {
   "cell_type": "markdown",
   "id": "67f4bbcc",
   "metadata": {},
   "source": [
    "# Initialization"
   ]
  },
  {
   "cell_type": "markdown",
   "id": "1afc33c7",
   "metadata": {},
   "source": [
    "Change to `valuenet` directory and add `src` path to `PYTHONPATH`."
   ]
  },
  {
   "cell_type": "code",
   "execution_count": 1,
   "id": "124604e3",
   "metadata": {},
   "outputs": [
    {
     "name": "stdout",
     "output_type": "stream",
     "text": [
      "/home/ec2-user/SageMaker/valuenetforked\n"
     ]
    }
   ],
   "source": [
    "%cd /home/ec2-user/SageMaker/valuenetforked"
   ]
  },
  {
   "cell_type": "code",
   "execution_count": 2,
   "id": "dc006b3a",
   "metadata": {},
   "outputs": [
    {
     "data": {
      "text/plain": [
       "['/home/ec2-user/SageMaker/valuenetforked/src',\n",
       " '/home/ec2-user/SageMaker/aws-sagemaker-notebook-valuenet',\n",
       " '/home/ec2-user/SageMaker/custom-miniconda/miniconda/envs/valuenet/lib/python38.zip',\n",
       " '/home/ec2-user/SageMaker/custom-miniconda/miniconda/envs/valuenet/lib/python3.8',\n",
       " '/home/ec2-user/SageMaker/custom-miniconda/miniconda/envs/valuenet/lib/python3.8/lib-dynload',\n",
       " '',\n",
       " '/home/ec2-user/SageMaker/custom-miniconda/miniconda/envs/valuenet/lib/python3.8/site-packages',\n",
       " '/home/ec2-user/SageMaker/custom-miniconda/miniconda/envs/valuenet/lib/python3.8/site-packages/IPython/extensions',\n",
       " '/home/ec2-user/.ipython']"
      ]
     },
     "execution_count": 2,
     "metadata": {},
     "output_type": "execute_result"
    }
   ],
   "source": [
    "import sys\n",
    "sys.path.insert(0, '/home/ec2-user/SageMaker/valuenetforked/src')\n",
    "sys.path"
   ]
  },
  {
   "cell_type": "markdown",
   "id": "e60cf2c6",
   "metadata": {},
   "source": [
    "Read environment"
   ]
  },
  {
   "cell_type": "code",
   "execution_count": 3,
   "id": "faa2f7fe",
   "metadata": {},
   "outputs": [],
   "source": [
    "NER_API_SECRET=%env NER_API_SECRET\n",
    "API_KEY=%env API_KEY\n",
    "DB_USER=%env DB_USER\n",
    "DB_PW=%env DB_PW\n",
    "DB_HOST=%env DB_HOST\n",
    "DB_PORT=%env DB_PORT\n",
    "DB_SCHEMA=\"public\""
   ]
  },
  {
   "cell_type": "markdown",
   "id": "7929a504",
   "metadata": {},
   "source": [
    "# Train Model"
   ]
  },
  {
   "cell_type": "code",
   "execution_count": 4,
   "id": "26a264fa",
   "metadata": {},
   "outputs": [],
   "source": [
    "# Empty gpu use\n",
    "import torch, gc\n",
    "gc.collect()\n",
    "torch.cuda.empty_cache()"
   ]
  },
  {
   "cell_type": "code",
   "execution_count": 5,
   "id": "e2d63c97",
   "metadata": {},
   "outputs": [],
   "source": [
    "exp_name = \"train-01\""
   ]
  },
  {
   "cell_type": "markdown",
   "id": "cf5b5f16",
   "metadata": {},
   "source": [
    "**Results and final model**:\n",
    "After training, you will be able to find the ground truth data, output of the model, evaluation results and intermediary data in the folder `valuenet/experiments/{exp_name}_date_time`.\n",
    "If the accuracy was better than the last best accuracy, the model is also saved in the folder as `\"best_model.pt\"`.\n",
    "\n",
    "**Note**: There will be errors of the type below. It is expected and normal.\n",
    "\n",
    "    Exception\n",
    "        Traceback (most recent call last):\n",
    "            File \"/home/ec2-user/SageMaker/valuenetforked/src/intermediate_representation/sem2sql/sem2SQL.py\", line 691, in transform_semQL_to_sql\n",
    "                result = transform(sem_ql_prediction[i], schemas[sem_ql_prediction[i]['db_id']])\n",
    "            File \"/home/ec2-user/SageMaker/valuenetforked/src/intermediate_representation/sem2sql/sem2SQL.py\", line 246, in transform\n",
    "        assert isinstance(c_instance, Root1)\n",
    "    AssertionError"
   ]
  },
  {
   "cell_type": "code",
   "execution_count": 6,
   "id": "919269a5",
   "metadata": {},
   "outputs": [
    {
     "name": "stderr",
     "output_type": "stream",
     "text": [
      "Failed to detect the name of this notebook, you can set it manually with the WANDB_NOTEBOOK_NAME environment variable to enable code saving.\n",
      "\u001b[34m\u001b[1mwandb\u001b[0m: Currently logged in as: \u001b[33mpaulinemauryl\u001b[0m (use `wandb login --relogin` to force relogin)\n",
      "\u001b[34m\u001b[1mwandb\u001b[0m: wandb version 0.12.2 is available!  To upgrade, please run:\n",
      "\u001b[34m\u001b[1mwandb\u001b[0m:  $ pip install wandb --upgrade\n"
     ]
    },
    {
     "data": {
      "text/html": [
       "\n",
       "                Tracking run with wandb version 0.11.2<br/>\n",
       "                Syncing run <strong style=\"color:#cdcd00\">feasible-leaf-53</strong> to <a href=\"https://wandb.ai\" target=\"_blank\">Weights & Biases</a> <a href=\"https://docs.wandb.com/integrations/jupyter.html\" target=\"_blank\">(Documentation)</a>.<br/>\n",
       "                Project page: <a href=\"https://wandb.ai/paulinemauryl/proton\" target=\"_blank\">https://wandb.ai/paulinemauryl/proton</a><br/>\n",
       "                Run page: <a href=\"https://wandb.ai/paulinemauryl/proton/runs/1u9doys8\" target=\"_blank\">https://wandb.ai/paulinemauryl/proton/runs/1u9doys8</a><br/>\n",
       "                Run data is saved locally in <code>/home/ec2-user/SageMaker/valuenetforked/wandb/run-20210921_120306-1u9doys8</code><br/><br/>\n",
       "            "
      ],
      "text/plain": [
       "<IPython.core.display.HTML object>"
      ]
     },
     "metadata": {},
     "output_type": "display_data"
    },
    {
     "name": "stdout",
     "output_type": "stream",
     "text": [
      "*** parsed configuration from command line and combine with constants ***\n",
      "argument: cuda=True\n",
      "argument: encoder_pretrained_model=facebook/bart-base\n",
      "argument: max_seq_length=1024\n",
      "argument: column_pointer=True\n",
      "argument: embed_size=300\n",
      "argument: hidden_size=300\n",
      "argument: action_embed_size=128\n",
      "argument: att_vec_size=300\n",
      "argument: type_embed_size=128\n",
      "argument: col_embed_size=300\n",
      "argument: readout=identity\n",
      "argument: column_att=affine\n",
      "argument: dropout=0.3\n",
      "argument: exp_name=train-01\n",
      "argument: seed=90\n",
      "argument: toy=False\n",
      "argument: data_set=hack_zurich\n",
      "argument: batch_size=1\n",
      "argument: num_epochs=5.0\n",
      "argument: lr_base=0.001\n",
      "argument: lr_connection=0.0001\n",
      "argument: lr_transformer=2e-05\n",
      "argument: scheduler_gamma=0.5\n",
      "argument: max_grad_norm=1.0\n",
      "argument: clip_grad=5.0\n",
      "argument: loss_epoch_threshold=70\n",
      "argument: sketch_loss_weight=1.0\n",
      "argument: beam_size=1\n",
      "argument: decode_max_time_step=40\n",
      "argument: data_dir=data/hack_zurich\n",
      "argument: model_output_dir=experiments\n",
      "Run experiment 'train-01__20210921_120309'\n",
      "We use the device: 'cuda' and 1 gpu's.\n",
      "Loading from datasets...\n",
      "Load data from data/hack_zurich/original/tables.json. N=1\n",
      "Load data from data/hack_zurich/train.json. N=61\n",
      "Load data from data/hack_zurich/dev.json. N=16\n"
     ]
    },
    {
     "name": "stderr",
     "output_type": "stream",
     "text": [
      "Some weights of the model checkpoint at facebook/bart-base were not used when initializing BartModel: ['final_logits_bias']\n",
      "- This IS expected if you are initializing BartModel from the checkpoint of a model trained on another task or with another architecture (e.g. initializing a BertForSequenceClassification model from a BertForPreTraining model).\n",
      "- This IS NOT expected if you are initializing BartModel from the checkpoint of a model that you expect to be exactly identical (initializing a BertForSequenceClassification model from a BertForSequenceClassification model).\n"
     ]
    },
    {
     "name": "stdout",
     "output_type": "stream",
     "text": [
      "Successfully loaded pre-trained transformer 'facebook/bart-base'\n",
      "Use Column Pointer:  True\n",
      "Build optimizer and scheduler. Total training steps: 305.0\n",
      "Start training with 5.0 epochs\n"
     ]
    },
    {
     "name": "stderr",
     "output_type": "stream",
     "text": [
      "  0%|          | 0/5 [00:00<?, ?it/s]\n",
      "Training:   0%|          | 0/61 [00:00<?, ?it/s]\u001b[A\n",
      "Training:   2%|▏         | 1/61 [00:00<00:14,  4.10it/s]\u001b[A\n",
      "Training:   3%|▎         | 2/61 [00:00<00:12,  4.80it/s]\u001b[A\n",
      "Training:   5%|▍         | 3/61 [00:00<00:12,  4.63it/s]\u001b[A\n",
      "Training:   7%|▋         | 4/61 [00:00<00:12,  4.42it/s]\u001b[A\n",
      "Training:   8%|▊         | 5/61 [00:01<00:12,  4.49it/s]\u001b[A\n",
      "Training:  10%|▉         | 6/61 [00:01<00:11,  4.81it/s]\u001b[A\n",
      "Training:  11%|█▏        | 7/61 [00:01<00:11,  4.75it/s]\u001b[A\n",
      "Training:  13%|█▎        | 8/61 [00:01<00:11,  4.66it/s]\u001b[A\n",
      "Training:  15%|█▍        | 9/61 [00:01<00:10,  4.87it/s]\u001b[A\n",
      "Training:  16%|█▋        | 10/61 [00:02<00:10,  4.82it/s]\u001b[A\n",
      "Training:  18%|█▊        | 11/61 [00:02<00:10,  4.98it/s]\u001b[A\n",
      "Training:  20%|█▉        | 12/61 [00:02<00:09,  5.08it/s]\u001b[A\n",
      "Training:  21%|██▏       | 13/61 [00:02<00:09,  5.14it/s]\u001b[A\n",
      "Training:  23%|██▎       | 14/61 [00:02<00:09,  5.20it/s]\u001b[A\n",
      "Training:  25%|██▍       | 15/61 [00:03<00:09,  5.03it/s]\u001b[A\n",
      "Training:  26%|██▌       | 16/61 [00:03<00:09,  4.89it/s]\u001b[A\n",
      "Training:  28%|██▊       | 17/61 [00:03<00:09,  4.81it/s]\u001b[A\n",
      "Training:  30%|██▉       | 18/61 [00:03<00:08,  4.78it/s]\u001b[A\n",
      "Training:  31%|███       | 19/61 [00:03<00:08,  4.74it/s]\u001b[A\n",
      "Training:  33%|███▎      | 20/61 [00:04<00:08,  4.65it/s]\u001b[A\n",
      "Training:  34%|███▍      | 21/61 [00:04<00:08,  4.86it/s]\u001b[A\n",
      "Training:  36%|███▌      | 22/61 [00:04<00:08,  4.73it/s]\u001b[A\n",
      "Training:  38%|███▊      | 23/61 [00:04<00:07,  4.89it/s]\u001b[A\n",
      "Training:  39%|███▉      | 24/61 [00:04<00:07,  4.83it/s]\u001b[A\n",
      "Training:  41%|████      | 25/61 [00:05<00:07,  4.69it/s]\u001b[A\n",
      "Training:  43%|████▎     | 26/61 [00:05<00:07,  4.86it/s]\u001b[A\n",
      "Training:  44%|████▍     | 27/61 [00:05<00:06,  5.05it/s]\u001b[A\n",
      "Training:  46%|████▌     | 28/61 [00:05<00:06,  5.17it/s]\u001b[A\n",
      "Training:  48%|████▊     | 29/61 [00:05<00:06,  5.24it/s]\u001b[A\n",
      "Training:  49%|████▉     | 30/61 [00:06<00:05,  5.32it/s]\u001b[A\n",
      "Training:  51%|█████     | 31/61 [00:06<00:05,  5.27it/s]\u001b[A\n",
      "Training:  52%|█████▏    | 32/61 [00:06<00:05,  5.34it/s]\u001b[A\n",
      "Training:  54%|█████▍    | 33/61 [00:06<00:05,  5.02it/s]\u001b[A\n",
      "Training:  56%|█████▌    | 34/61 [00:06<00:05,  5.16it/s]\u001b[A\n",
      "Training:  57%|█████▋    | 35/61 [00:07<00:04,  5.28it/s]\u001b[A\n",
      "Training:  59%|█████▉    | 36/61 [00:07<00:04,  5.04it/s]\u001b[A\n",
      "Training:  61%|██████    | 37/61 [00:07<00:04,  4.87it/s]\u001b[A\n",
      "Training:  62%|██████▏   | 38/61 [00:07<00:04,  4.79it/s]\u001b[A\n",
      "Training:  64%|██████▍   | 39/61 [00:07<00:04,  4.66it/s]\u001b[A\n",
      "Training:  66%|██████▌   | 40/61 [00:08<00:04,  4.88it/s]\u001b[A\n",
      "Training:  67%|██████▋   | 41/61 [00:08<00:04,  4.82it/s]\u001b[A\n",
      "Training:  69%|██████▉   | 42/61 [00:08<00:04,  4.74it/s]\u001b[A\n",
      "Training:  70%|███████   | 43/61 [00:08<00:03,  4.98it/s]\u001b[A\n",
      "Training:  72%|███████▏  | 44/61 [00:08<00:03,  4.90it/s]\u001b[A\n",
      "Training:  74%|███████▍  | 45/61 [00:09<00:03,  4.74it/s]\u001b[A\n",
      "Training:  75%|███████▌  | 46/61 [00:09<00:03,  4.91it/s]\u001b[A\n",
      "Training:  77%|███████▋  | 47/61 [00:09<00:02,  4.74it/s]\u001b[A\n",
      "Training:  79%|███████▊  | 48/61 [00:09<00:02,  4.62it/s]\u001b[A\n",
      "Training:  80%|████████  | 49/61 [00:10<00:02,  4.65it/s]\u001b[A\n",
      "Training:  82%|████████▏ | 50/61 [00:10<00:02,  4.90it/s]\u001b[A\n",
      "Training:  84%|████████▎ | 51/61 [00:10<00:02,  4.84it/s]\u001b[A\n",
      "Training:  85%|████████▌ | 52/61 [00:10<00:01,  4.81it/s]\u001b[A\n",
      "Training:  87%|████████▋ | 53/61 [00:10<00:01,  4.96it/s]\u001b[A\n",
      "Training:  89%|████████▊ | 54/61 [00:11<00:01,  4.83it/s]\u001b[A\n",
      "Training:  90%|█████████ | 55/61 [00:11<00:01,  4.99it/s]\u001b[A\n",
      "Training:  92%|█████████▏| 56/61 [00:11<00:00,  5.18it/s]\u001b[A\n",
      "Training:  93%|█████████▎| 57/61 [00:11<00:00,  5.08it/s]\u001b[A\n",
      "Training:  95%|█████████▌| 58/61 [00:11<00:00,  5.24it/s]\u001b[A\n",
      "Training:  97%|█████████▋| 59/61 [00:12<00:00,  4.98it/s]\u001b[A\n",
      "Training:  98%|█████████▊| 60/61 [00:12<00:00,  4.82it/s]\u001b[A\n",
      "Training: 100%|██████████| 61/61 [00:12<00:00,  4.89it/s]\u001b[A\n",
      "  0%|          | 0/5 [00:12<?, ?it/s]"
     ]
    },
    {
     "name": "stdout",
     "output_type": "stream",
     "text": [
      "Training of epoch 0 finished after 12.48 seconds. Evaluate now on the dev-set\n"
     ]
    },
    {
     "name": "stderr",
     "output_type": "stream",
     "text": [
      "\n",
      "                                     :00<?, ?it/s]\u001b[A\n",
      "  0%|          | 0/5 [00:12<?, ?it/s]             \n",
      "                                     :00<?, ?it/s]\u001b[A\n",
      "  0%|          | 0/5 [00:12<?, ?it/s]             \n",
      "Evaluating:   0%|          | 0/16 [00:00<?, ?it/s]\u001b[A\n",
      "Evaluating:  12%|█▎        | 2/16 [00:00<00:01, 11.75it/s]\u001b[A"
     ]
    },
    {
     "name": "stdout",
     "output_type": "stream",
     "text": [
      "Not all values found during pre-processing for question \"How high is the total share of electric vehicles in the Canton Zurich in the year 2015?\". Replace values with dummy to make query fail\n",
      "Not all values found during pre-processing for question \"Which region had the lowest share of electric vehicles in the year 2015?\". Replace values with dummy to make query fail\n"
     ]
    },
    {
     "name": "stderr",
     "output_type": "stream",
     "text": [
      "\n",
      "Evaluating:  25%|██▌       | 4/16 [00:00<00:00, 12.43it/s]\u001b[A\n",
      "                                     :00<00:00, 13.32it/s]\u001b[A\n",
      "  0%|          | 0/5 [00:13<?, ?it/s]                     \n",
      "                                     :00<00:00, 13.32it/s]\u001b[A\n",
      "  0%|          | 0/5 [00:13<?, ?it/s]                     \n",
      "Evaluating:  38%|███▊      | 6/16 [00:00<00:00, 13.32it/s]\u001b[A\n",
      "                                     :00<00:00, 13.10it/s]\u001b[A\n",
      "  0%|          | 0/5 [00:13<?, ?it/s]                     \n",
      "Evaluating:  50%|█████     | 8/16 [00:00<00:00, 13.10it/s]\u001b[A"
     ]
    },
    {
     "name": "stdout",
     "output_type": "stream",
     "text": [
      "Not all values found during pre-processing for question \"How many municipalities have a share of hybrid vehicles within the newly registered cars higher than 2.6 per year?\". Replace values with dummy to make query fail\n",
      "Not all values found during pre-processing for question \"How high is the total share of hybrid vehicles within the newly registered cars in the Canton Zurich in the year 2012?\". Replace values with dummy to make query fail\n",
      "Not all values found during pre-processing for question \"Which region had the lowest share of hybrid vehicles within the newly registered cars in the year 2012?\". Replace values with dummy to make query fail\n"
     ]
    },
    {
     "name": "stderr",
     "output_type": "stream",
     "text": [
      "\n",
      "Evaluating:  62%|██████▎   | 10/16 [00:00<00:00, 12.99it/s]\u001b[A\n",
      "                                     0:00<00:00, 13.48it/s]\u001b[A\n",
      "  0%|          | 0/5 [00:13<?, ?it/s]                      \n",
      "Evaluating:  75%|███████▌  | 12/16 [00:01<00:00, 13.48it/s]\u001b[A\n",
      "                                     0:01<00:00, 13.59it/s]\u001b[A\n",
      "  0%|          | 0/5 [00:13<?, ?it/s]                      \n",
      "                                     0:01<00:00, 13.59it/s]\u001b[A\n",
      "  0%|          | 0/5 [00:13<?, ?it/s]                      \n",
      "Evaluating:  88%|████████▊ | 14/16 [00:01<00:00, 13.59it/s]\u001b[A\n",
      "Evaluating: 100%|██████████| 16/16 [00:01<00:00, 13.15it/s]\u001b[A\n",
      "  0%|          | 0/5 [00:13<?, ?it/s]"
     ]
    },
    {
     "name": "stdout",
     "output_type": "stream",
     "text": [
      "Not all values found during pre-processing for question \"How many municipalities have a share of electric vehicles within the newly registered cars higher than 0 per year?\". Replace values with dummy to make query fail\n",
      "Not all values found during pre-processing for question \"How high is the total share of electric vehicles within the newly registered cars in the Canton Zurich in the year 2012?\". Replace values with dummy to make query fail\n",
      "Not all values found during pre-processing for question \"Which region had the lowest share of electric vehicles within the newly registered cars in the year 2012?\". Replace values with dummy to make query fail\n",
      "in 0 times we found the correct results in another beam (failing queries: 16)\n",
      "Epoch: 1    Sketch-Accuracy: 0.125     Accuracy: 0.0\n"
     ]
    },
    {
     "name": "stderr",
     "output_type": "stream",
     "text": [
      " 20%|██        | 1/5 [00:13<00:55, 13.85s/it]"
     ]
    },
    {
     "name": "stdout",
     "output_type": "stream",
     "text": [
      "                     easy                 medium               hard                 extra                all                 \n",
      "count                0                    5                    8                    3                    16                  \n",
      "=====================   EXECUTION ACCURACY     =====================\n",
      "execution            0.000                1.000                1.000                1.000                1.000               \n",
      "Successfully transformed 16 of 16 from SemQL to SQL.\n",
      "Results from Spider-Evaluation:\n",
      "easy: 0\n",
      "medium: 1.0\n",
      "hard: 1.0\n",
      "extra: 1.0\n",
      "all: 1.0\n"
     ]
    },
    {
     "name": "stderr",
     "output_type": "stream",
     "text": [
      "\n",
      "Training:   0%|          | 0/61 [00:00<?, ?it/s]\u001b[A\n",
      "Training:   2%|▏         | 1/61 [00:00<00:13,  4.53it/s]\u001b[A\n",
      "Training:   3%|▎         | 2/61 [00:00<00:11,  5.11it/s]\u001b[A\n",
      "Training:   5%|▍         | 3/61 [00:00<00:10,  5.31it/s]\u001b[A\n",
      "Training:   7%|▋         | 4/61 [00:00<00:11,  5.07it/s]\u001b[A\n",
      "Training:   8%|▊         | 5/61 [00:00<00:10,  5.20it/s]\u001b[A\n",
      "Training:  10%|▉         | 6/61 [00:01<00:10,  5.27it/s]\u001b[A\n",
      "Training:  11%|█▏        | 7/61 [00:01<00:10,  5.10it/s]\u001b[A\n",
      "Training:  13%|█▎        | 8/61 [00:01<00:10,  5.27it/s]\u001b[A\n",
      "Training:  15%|█▍        | 9/61 [00:01<00:09,  5.41it/s]\u001b[A\n",
      "Training:  16%|█▋        | 10/61 [00:01<00:09,  5.19it/s]\u001b[A\n",
      "Training:  18%|█▊        | 11/61 [00:02<00:09,  5.06it/s]\u001b[A\n",
      "Training:  20%|█▉        | 12/61 [00:02<00:10,  4.90it/s]\u001b[A\n",
      "Training:  21%|██▏       | 13/61 [00:02<00:09,  4.87it/s]\u001b[A\n",
      "Training:  23%|██▎       | 14/61 [00:02<00:09,  4.84it/s]\u001b[A\n",
      "Training:  25%|██▍       | 15/61 [00:02<00:09,  4.75it/s]\u001b[A\n",
      "Training:  26%|██▌       | 16/61 [00:03<00:09,  4.98it/s]\u001b[A\n",
      "Training:  28%|██▊       | 17/61 [00:03<00:08,  5.17it/s]\u001b[A\n",
      "Training:  30%|██▉       | 18/61 [00:03<00:08,  5.32it/s]\u001b[A\n",
      "Training:  31%|███       | 19/61 [00:03<00:07,  5.42it/s]\u001b[A\n",
      "Training:  33%|███▎      | 20/61 [00:03<00:07,  5.45it/s]\u001b[A\n",
      "Training:  34%|███▍      | 21/61 [00:04<00:07,  5.52it/s]\u001b[A\n",
      "Training:  36%|███▌      | 22/61 [00:04<00:07,  5.29it/s]\u001b[A\n",
      "Training:  38%|███▊      | 23/61 [00:04<00:07,  5.14it/s]\u001b[A\n",
      "Training:  39%|███▉      | 24/61 [00:04<00:07,  4.96it/s]\u001b[A\n",
      "Training:  41%|████      | 25/61 [00:04<00:07,  5.08it/s]\u001b[A\n",
      "Training:  43%|████▎     | 26/61 [00:05<00:07,  4.84it/s]\u001b[A\n",
      "Training:  44%|████▍     | 27/61 [00:05<00:07,  4.80it/s]\u001b[A\n",
      "Training:  46%|████▌     | 28/61 [00:05<00:07,  4.67it/s]\u001b[A\n",
      "Training:  48%|████▊     | 29/61 [00:05<00:06,  4.69it/s]\u001b[A\n",
      "Training:  49%|████▉     | 30/61 [00:05<00:06,  4.92it/s]\u001b[A\n",
      "Training:  51%|█████     | 31/61 [00:06<00:05,  5.11it/s]\u001b[A\n",
      "Training:  52%|█████▏    | 32/61 [00:06<00:05,  4.94it/s]\u001b[A\n",
      "Training:  54%|█████▍    | 33/61 [00:06<00:05,  5.09it/s]\u001b[A\n",
      "Training:  56%|█████▌    | 34/61 [00:06<00:05,  4.89it/s]\u001b[A\n",
      "Training:  57%|█████▋    | 35/61 [00:06<00:05,  5.08it/s]\u001b[A\n",
      "Training:  59%|█████▉    | 36/61 [00:07<00:05,  4.99it/s]\u001b[A\n",
      "Training:  61%|██████    | 37/61 [00:07<00:04,  5.16it/s]\u001b[A\n",
      "Training:  62%|██████▏   | 38/61 [00:07<00:04,  5.04it/s]\u001b[A\n",
      "Training:  64%|██████▍   | 39/61 [00:07<00:04,  5.16it/s]\u001b[A\n",
      "Training:  66%|██████▌   | 40/61 [00:07<00:04,  4.97it/s]\u001b[A\n",
      "Training:  67%|██████▋   | 41/61 [00:08<00:04,  4.90it/s]\u001b[A\n",
      "Training:  69%|██████▉   | 42/61 [00:08<00:04,  4.73it/s]\u001b[A\n",
      "Training:  70%|███████   | 43/61 [00:08<00:03,  4.92it/s]\u001b[A\n",
      "Training:  72%|███████▏  | 44/61 [00:08<00:03,  4.80it/s]\u001b[A\n",
      "Training:  74%|███████▍  | 45/61 [00:08<00:03,  4.72it/s]\u001b[A\n",
      "Training:  75%|███████▌  | 46/61 [00:09<00:03,  4.71it/s]\u001b[A\n",
      "Training:  77%|███████▋  | 47/61 [00:09<00:02,  4.92it/s]\u001b[A\n",
      "Training:  79%|███████▊  | 48/61 [00:09<00:02,  4.81it/s]\u001b[A\n",
      "Training:  80%|████████  | 49/61 [00:09<00:02,  5.03it/s]\u001b[A\n",
      "Training:  82%|████████▏ | 50/61 [00:09<00:02,  5.20it/s]\u001b[A\n",
      "Training:  84%|████████▎ | 51/61 [00:10<00:02,  4.98it/s]\u001b[A\n",
      "Training:  85%|████████▌ | 52/61 [00:10<00:01,  4.80it/s]\u001b[A\n",
      "Training:  87%|████████▋ | 53/61 [00:10<00:01,  4.78it/s]\u001b[A\n",
      "Training:  89%|████████▊ | 54/61 [00:10<00:01,  4.98it/s]\u001b[A\n",
      "Training:  90%|█████████ | 55/61 [00:10<00:01,  5.10it/s]\u001b[A\n",
      "Training:  92%|█████████▏| 56/61 [00:11<00:00,  5.25it/s]\u001b[A\n",
      "Training:  93%|█████████▎| 57/61 [00:11<00:00,  5.08it/s]\u001b[A\n",
      "Training:  95%|█████████▌| 58/61 [00:11<00:00,  4.97it/s]\u001b[A\n",
      "Training:  97%|█████████▋| 59/61 [00:11<00:00,  5.16it/s]\u001b[A\n",
      "Training:  98%|█████████▊| 60/61 [00:11<00:00,  4.98it/s]\u001b[A\n",
      "Training: 100%|██████████| 61/61 [00:12<00:00,  5.01it/s]\u001b[A\n",
      " 20%|██        | 1/5 [00:26<00:55, 13.85s/it]"
     ]
    },
    {
     "name": "stdout",
     "output_type": "stream",
     "text": [
      "Training of epoch 1 finished after 12.20 seconds. Evaluate now on the dev-set\n"
     ]
    },
    {
     "name": "stderr",
     "output_type": "stream",
     "text": [
      "\n",
      "                                             it/s]\u001b[A\n",
      " 20%|██        | 1/5 [00:26<00:55, 13.85s/it]     \n",
      "                                             it/s]\u001b[A\n",
      " 20%|██        | 1/5 [00:26<00:55, 13.85s/it]     \n",
      "Evaluating:   0%|          | 0/16 [00:00<?, ?it/s]\u001b[A\n",
      "Evaluating:  12%|█▎        | 2/16 [00:00<00:01, 12.97it/s]\u001b[A"
     ]
    },
    {
     "name": "stdout",
     "output_type": "stream",
     "text": [
      "Not all values found during pre-processing for question \"How high is the total share of electric vehicles in the Canton Zurich in the year 2015?\". Replace values with dummy to make query fail\n",
      "Not all values found during pre-processing for question \"Which region had the lowest share of electric vehicles in the year 2015?\". Replace values with dummy to make query fail\n"
     ]
    },
    {
     "name": "stderr",
     "output_type": "stream",
     "text": [
      "\n",
      "Evaluating:  25%|██▌       | 4/16 [00:00<00:00, 13.44it/s]\u001b[A\n",
      "                                             0, 14.06it/s]\u001b[A\n",
      " 20%|██        | 1/5 [00:26<00:55, 13.85s/it]             \n",
      "                                             0, 14.06it/s]\u001b[A\n",
      " 20%|██        | 1/5 [00:26<00:55, 13.85s/it]             \n",
      "Evaluating:  38%|███▊      | 6/16 [00:00<00:00, 14.06it/s]\u001b[A\n",
      "                                             0, 13.53it/s]\u001b[A\n",
      " 20%|██        | 1/5 [00:26<00:55, 13.85s/it]             \n",
      "Evaluating:  50%|█████     | 8/16 [00:00<00:00, 13.53it/s]\u001b[A"
     ]
    },
    {
     "name": "stdout",
     "output_type": "stream",
     "text": [
      "Not all values found during pre-processing for question \"How many municipalities have a share of hybrid vehicles within the newly registered cars higher than 2.6 per year?\". Replace values with dummy to make query fail\n",
      "Not all values found during pre-processing for question \"How high is the total share of hybrid vehicles within the newly registered cars in the Canton Zurich in the year 2012?\". Replace values with dummy to make query fail\n",
      "Not all values found during pre-processing for question \"Which region had the lowest share of hybrid vehicles within the newly registered cars in the year 2012?\". Replace values with dummy to make query fail\n"
     ]
    },
    {
     "name": "stderr",
     "output_type": "stream",
     "text": [
      "\n",
      "Evaluating:  62%|██████▎   | 10/16 [00:00<00:00, 13.23it/s]\u001b[A\n",
      "                                             00, 13.67it/s]\u001b[A\n",
      " 20%|██        | 1/5 [00:27<00:55, 13.85s/it]              \n",
      "Evaluating:  75%|███████▌  | 12/16 [00:01<00:00, 13.67it/s]\u001b[A\n",
      "                                             00, 13.79it/s]\u001b[A\n",
      " 20%|██        | 1/5 [00:27<00:55, 13.85s/it]              \n",
      "                                             00, 13.79it/s]\u001b[A\n",
      " 20%|██        | 1/5 [00:27<00:55, 13.85s/it]              \n",
      "Evaluating:  88%|████████▊ | 14/16 [00:01<00:00, 13.79it/s]\u001b[A\n",
      "Evaluating: 100%|██████████| 16/16 [00:01<00:00, 13.51it/s]\u001b[A\n",
      " 20%|██        | 1/5 [00:27<00:55, 13.85s/it]"
     ]
    },
    {
     "name": "stdout",
     "output_type": "stream",
     "text": [
      "Not all values found during pre-processing for question \"How many municipalities have a share of electric vehicles within the newly registered cars higher than 0 per year?\". Replace values with dummy to make query fail\n",
      "Not all values found during pre-processing for question \"How high is the total share of electric vehicles within the newly registered cars in the Canton Zurich in the year 2012?\". Replace values with dummy to make query fail\n",
      "Not all values found during pre-processing for question \"Which region had the lowest share of electric vehicles within the newly registered cars in the year 2012?\". Replace values with dummy to make query fail\n",
      "in 0 times we found the correct results in another beam (failing queries: 16)\n",
      "Epoch: 2    Sketch-Accuracy: 0.125     Accuracy: 0.0\n"
     ]
    },
    {
     "name": "stderr",
     "output_type": "stream",
     "text": [
      " 40%|████      | 2/5 [00:27<00:40, 13.66s/it]"
     ]
    },
    {
     "name": "stdout",
     "output_type": "stream",
     "text": [
      "                     easy                 medium               hard                 extra                all                 \n",
      "count                0                    5                    8                    3                    16                  \n",
      "=====================   EXECUTION ACCURACY     =====================\n",
      "execution            0.000                1.000                1.000                1.000                1.000               \n",
      "Successfully transformed 16 of 16 from SemQL to SQL.\n",
      "Results from Spider-Evaluation:\n",
      "easy: 0\n",
      "medium: 1.0\n",
      "hard: 1.0\n",
      "extra: 1.0\n",
      "all: 1.0\n"
     ]
    },
    {
     "name": "stderr",
     "output_type": "stream",
     "text": [
      "\n",
      "Training:   0%|          | 0/61 [00:00<?, ?it/s]\u001b[A\n",
      "Training:   2%|▏         | 1/61 [00:00<00:13,  4.46it/s]\u001b[A\n",
      "Training:   3%|▎         | 2/61 [00:00<00:11,  5.08it/s]\u001b[A\n",
      "Training:   5%|▍         | 3/61 [00:00<00:11,  5.23it/s]\u001b[A\n",
      "Training:   7%|▋         | 4/61 [00:00<00:10,  5.33it/s]\u001b[A\n",
      "Training:   8%|▊         | 5/61 [00:00<00:10,  5.39it/s]\u001b[A\n",
      "Training:  10%|▉         | 6/61 [00:01<00:10,  5.07it/s]\u001b[A\n",
      "Training:  11%|█▏        | 7/61 [00:01<00:10,  5.26it/s]\u001b[A\n",
      "Training:  13%|█▎        | 8/61 [00:01<00:10,  5.08it/s]\u001b[A\n",
      "Training:  15%|█▍        | 9/61 [00:01<00:10,  5.00it/s]\u001b[A\n",
      "Training:  16%|█▋        | 10/61 [00:01<00:09,  5.20it/s]\u001b[A\n",
      "Training:  18%|█▊        | 11/61 [00:02<00:09,  5.04it/s]\u001b[A\n",
      "Training:  20%|█▉        | 12/61 [00:02<00:09,  4.98it/s]\u001b[A\n",
      "Training:  21%|██▏       | 13/61 [00:02<00:09,  4.83it/s]\u001b[A\n",
      "Training:  23%|██▎       | 14/61 [00:02<00:09,  4.81it/s]\u001b[A\n",
      "Training:  25%|██▍       | 15/61 [00:02<00:09,  5.02it/s]\u001b[A\n",
      "Training:  26%|██▌       | 16/61 [00:03<00:08,  5.22it/s]\u001b[A\n",
      "Training:  28%|██▊       | 17/61 [00:03<00:08,  4.99it/s]\u001b[A\n",
      "Training:  30%|██▉       | 18/61 [00:03<00:08,  4.86it/s]\u001b[A\n",
      "Training:  31%|███       | 19/61 [00:03<00:08,  5.07it/s]\u001b[A\n",
      "Training:  33%|███▎      | 20/61 [00:03<00:07,  5.22it/s]\u001b[A\n",
      "Training:  34%|███▍      | 21/61 [00:04<00:07,  5.21it/s]\u001b[A\n",
      "Training:  36%|███▌      | 22/61 [00:04<00:07,  5.26it/s]\u001b[A\n",
      "Training:  38%|███▊      | 23/61 [00:04<00:07,  5.11it/s]\u001b[A\n",
      "Training:  39%|███▉      | 24/61 [00:04<00:07,  4.90it/s]\u001b[A\n",
      "Training:  41%|████      | 25/61 [00:04<00:07,  5.11it/s]\u001b[A\n",
      "Training:  43%|████▎     | 26/61 [00:05<00:06,  5.01it/s]\u001b[A\n",
      "Training:  44%|████▍     | 27/61 [00:05<00:06,  4.87it/s]\u001b[A\n",
      "Training:  46%|████▌     | 28/61 [00:05<00:06,  4.84it/s]\u001b[A\n",
      "Training:  48%|████▊     | 29/61 [00:05<00:06,  5.07it/s]\u001b[A\n",
      "Training:  49%|████▉     | 30/61 [00:05<00:06,  4.93it/s]\u001b[A\n",
      "Training:  51%|█████     | 31/61 [00:06<00:05,  5.08it/s]\u001b[A\n",
      "Training:  52%|█████▏    | 32/61 [00:06<00:05,  5.28it/s]\u001b[A\n",
      "Training:  54%|█████▍    | 33/61 [00:06<00:05,  5.06it/s]\u001b[A\n",
      "Training:  56%|█████▌    | 34/61 [00:06<00:05,  5.28it/s]\u001b[A\n",
      "Training:  57%|█████▋    | 35/61 [00:06<00:04,  5.38it/s]\u001b[A\n",
      "Training:  59%|█████▉    | 36/61 [00:07<00:04,  5.11it/s]\u001b[A\n",
      "Training:  61%|██████    | 37/61 [00:07<00:04,  4.97it/s]\u001b[A\n",
      "Training:  62%|██████▏   | 38/61 [00:07<00:04,  4.90it/s]\u001b[A\n",
      "Training:  64%|██████▍   | 39/61 [00:07<00:04,  5.06it/s]\u001b[A\n",
      "Training:  66%|██████▌   | 40/61 [00:07<00:04,  4.98it/s]\u001b[A\n",
      "Training:  67%|██████▋   | 41/61 [00:08<00:04,  4.90it/s]\u001b[A\n",
      "Training:  69%|██████▉   | 42/61 [00:08<00:03,  4.83it/s]\u001b[A\n",
      "Training:  70%|███████   | 43/61 [00:08<00:03,  5.05it/s]\u001b[A\n",
      "Training:  72%|███████▏  | 44/61 [00:08<00:03,  5.23it/s]\u001b[A\n",
      "Training:  74%|███████▍  | 45/61 [00:08<00:02,  5.35it/s]\u001b[A\n",
      "Training:  75%|███████▌  | 46/61 [00:09<00:02,  5.18it/s]\u001b[A\n",
      "Training:  77%|███████▋  | 47/61 [00:09<00:02,  4.98it/s]\u001b[A\n",
      "Training:  79%|███████▊  | 48/61 [00:09<00:02,  5.11it/s]\u001b[A\n",
      "Training:  80%|████████  | 49/61 [00:09<00:02,  5.21it/s]\u001b[A\n",
      "Training:  82%|████████▏ | 50/61 [00:09<00:02,  4.99it/s]\u001b[A\n",
      "Training:  84%|████████▎ | 51/61 [00:10<00:02,  4.92it/s]\u001b[A\n",
      "Training:  85%|████████▌ | 52/61 [00:10<00:01,  5.08it/s]\u001b[A\n",
      "Training:  87%|████████▋ | 53/61 [00:10<00:01,  5.23it/s]\u001b[A\n",
      "Training:  89%|████████▊ | 54/61 [00:10<00:01,  5.33it/s]\u001b[A\n",
      "Training:  90%|█████████ | 55/61 [00:10<00:01,  5.16it/s]\u001b[A\n",
      "Training:  92%|█████████▏| 56/61 [00:11<00:01,  4.94it/s]\u001b[A\n",
      "Training:  93%|█████████▎| 57/61 [00:11<00:00,  4.84it/s]\u001b[A\n",
      "Training:  95%|█████████▌| 58/61 [00:11<00:00,  4.74it/s]\u001b[A\n",
      "Training:  97%|█████████▋| 59/61 [00:11<00:00,  4.69it/s]\u001b[A\n",
      "Training:  98%|█████████▊| 60/61 [00:11<00:00,  4.72it/s]\u001b[A\n",
      "Training: 100%|██████████| 61/61 [00:12<00:00,  5.03it/s]\u001b[A\n",
      " 40%|████      | 2/5 [00:39<00:40, 13.66s/it]"
     ]
    },
    {
     "name": "stdout",
     "output_type": "stream",
     "text": [
      "Training of epoch 2 finished after 12.14 seconds. Evaluate now on the dev-set\n"
     ]
    },
    {
     "name": "stderr",
     "output_type": "stream",
     "text": [
      "\n",
      "                                             it/s]\u001b[A\n",
      " 40%|████      | 2/5 [00:39<00:40, 13.66s/it]     \n",
      "                                             it/s]\u001b[A\n",
      " 40%|████      | 2/5 [00:39<00:40, 13.66s/it]     \n",
      "Evaluating:   0%|          | 0/16 [00:00<?, ?it/s]\u001b[A\n",
      "Evaluating:  12%|█▎        | 2/16 [00:00<00:01, 11.47it/s]\u001b[A"
     ]
    },
    {
     "name": "stdout",
     "output_type": "stream",
     "text": [
      "Not all values found during pre-processing for question \"How high is the total share of electric vehicles in the Canton Zurich in the year 2015?\". Replace values with dummy to make query fail\n",
      "Not all values found during pre-processing for question \"Which region had the lowest share of electric vehicles in the year 2015?\". Replace values with dummy to make query fail\n"
     ]
    },
    {
     "name": "stderr",
     "output_type": "stream",
     "text": [
      "\n",
      "Evaluating:  25%|██▌       | 4/16 [00:00<00:01, 11.85it/s]\u001b[A\n",
      "                                             0, 12.87it/s]\u001b[A\n",
      " 40%|████      | 2/5 [00:40<00:40, 13.66s/it]             \n",
      "                                             0, 12.87it/s]\u001b[A\n",
      " 40%|████      | 2/5 [00:40<00:40, 13.66s/it]             \n",
      "Evaluating:  38%|███▊      | 6/16 [00:00<00:00, 12.87it/s]\u001b[A\n",
      "                                             0, 12.14it/s]\u001b[A\n",
      " 40%|████      | 2/5 [00:40<00:40, 13.66s/it]             \n",
      "Evaluating:  50%|█████     | 8/16 [00:00<00:00, 12.14it/s]\u001b[A"
     ]
    },
    {
     "name": "stdout",
     "output_type": "stream",
     "text": [
      "Not all values found during pre-processing for question \"How many municipalities have a share of hybrid vehicles within the newly registered cars higher than 2.6 per year?\". Replace values with dummy to make query fail\n",
      "Not all values found during pre-processing for question \"How high is the total share of hybrid vehicles within the newly registered cars in the Canton Zurich in the year 2012?\". Replace values with dummy to make query fail\n",
      "Not all values found during pre-processing for question \"Which region had the lowest share of hybrid vehicles within the newly registered cars in the year 2012?\". Replace values with dummy to make query fail\n"
     ]
    },
    {
     "name": "stderr",
     "output_type": "stream",
     "text": [
      "\n",
      "Evaluating:  62%|██████▎   | 10/16 [00:00<00:00, 11.83it/s]\u001b[A\n",
      "                                             00, 12.62it/s]\u001b[A\n",
      " 40%|████      | 2/5 [00:40<00:40, 13.66s/it]              \n",
      "Evaluating:  75%|███████▌  | 12/16 [00:01<00:00, 12.62it/s]\u001b[A\n",
      "                                             00, 13.04it/s]\u001b[A\n",
      " 40%|████      | 2/5 [00:40<00:40, 13.66s/it]              \n",
      "                                             00, 13.04it/s]\u001b[A\n",
      " 40%|████      | 2/5 [00:40<00:40, 13.66s/it]              \n",
      "Evaluating:  88%|████████▊ | 14/16 [00:01<00:00, 13.04it/s]\u001b[A\n",
      "Evaluating: 100%|██████████| 16/16 [00:01<00:00, 12.27it/s]\u001b[A\n"
     ]
    },
    {
     "name": "stdout",
     "output_type": "stream",
     "text": [
      "Not all values found during pre-processing for question \"How many municipalities have a share of electric vehicles within the newly registered cars higher than 0 per year?\". Replace values with dummy to make query fail\n",
      "Not all values found during pre-processing for question \"How high is the total share of electric vehicles within the newly registered cars in the Canton Zurich in the year 2012?\". Replace values with dummy to make query fail\n",
      "Not all values found during pre-processing for question \"Which region had the lowest share of electric vehicles within the newly registered cars in the year 2012?\". Replace values with dummy to make query fail\n",
      "in 0 times we found the correct results in another beam (failing queries: 16)\n"
     ]
    },
    {
     "name": "stderr",
     "output_type": "stream",
     "text": [
      " 60%|██████    | 3/5 [00:41<00:27, 13.65s/it]"
     ]
    },
    {
     "name": "stdout",
     "output_type": "stream",
     "text": [
      "Epoch: 3    Sketch-Accuracy: 0.125     Accuracy: 0.0\n",
      "                     easy                 medium               hard                 extra                all                 \n",
      "count                0                    5                    8                    3                    16                  \n",
      "=====================   EXECUTION ACCURACY     =====================\n",
      "execution            0.000                1.000                1.000                1.000                1.000               \n",
      "Successfully transformed 16 of 16 from SemQL to SQL.\n",
      "Results from Spider-Evaluation:\n",
      "easy: 0\n",
      "medium: 1.0\n",
      "hard: 1.0\n",
      "extra: 1.0\n",
      "all: 1.0\n"
     ]
    },
    {
     "name": "stderr",
     "output_type": "stream",
     "text": [
      "\n",
      "Training:   0%|          | 0/61 [00:00<?, ?it/s]\u001b[A\n",
      "Training:   2%|▏         | 1/61 [00:00<00:13,  4.53it/s]\u001b[A\n",
      "Training:   3%|▎         | 2/61 [00:00<00:12,  4.84it/s]\u001b[A\n",
      "Training:   5%|▍         | 3/61 [00:00<00:12,  4.61it/s]\u001b[A\n",
      "Training:   7%|▋         | 4/61 [00:00<00:12,  4.63it/s]\u001b[A\n",
      "Training:   8%|▊         | 5/61 [00:01<00:12,  4.61it/s]\u001b[A\n",
      "Training:  10%|▉         | 6/61 [00:01<00:11,  4.63it/s]\u001b[A\n",
      "Training:  11%|█▏        | 7/61 [00:01<00:11,  4.59it/s]\u001b[A\n",
      "Training:  13%|█▎        | 8/61 [00:01<00:10,  4.85it/s]\u001b[A\n",
      "Training:  15%|█▍        | 9/61 [00:01<00:10,  5.04it/s]\u001b[A\n",
      "Training:  16%|█▋        | 10/61 [00:02<00:10,  4.92it/s]\u001b[A\n",
      "Training:  18%|█▊        | 11/61 [00:02<00:10,  4.86it/s]\u001b[A\n",
      "Training:  20%|█▉        | 12/61 [00:02<00:09,  5.02it/s]\u001b[A\n",
      "Training:  21%|██▏       | 13/61 [00:02<00:09,  5.16it/s]\u001b[A\n",
      "Training:  23%|██▎       | 14/61 [00:02<00:09,  4.95it/s]\u001b[A\n",
      "Training:  25%|██▍       | 15/61 [00:03<00:09,  4.88it/s]\u001b[A\n",
      "Training:  26%|██▌       | 16/61 [00:03<00:09,  4.79it/s]\u001b[A\n",
      "Training:  28%|██▊       | 17/61 [00:03<00:08,  4.98it/s]\u001b[A\n",
      "Training:  30%|██▉       | 18/61 [00:03<00:08,  4.85it/s]\u001b[A\n",
      "Training:  31%|███       | 19/61 [00:03<00:08,  5.06it/s]\u001b[A\n",
      "Training:  33%|███▎      | 20/61 [00:04<00:08,  4.86it/s]\u001b[A\n",
      "Training:  34%|███▍      | 21/61 [00:04<00:08,  4.75it/s]\u001b[A\n",
      "Training:  36%|███▌      | 22/61 [00:04<00:08,  4.74it/s]\u001b[A\n",
      "Training:  38%|███▊      | 23/61 [00:04<00:08,  4.72it/s]\u001b[A\n",
      "Training:  39%|███▉      | 24/61 [00:04<00:07,  4.65it/s]\u001b[A\n",
      "Training:  41%|████      | 25/61 [00:05<00:07,  4.86it/s]\u001b[A\n",
      "Training:  43%|████▎     | 26/61 [00:05<00:06,  5.09it/s]\u001b[A\n",
      "Training:  44%|████▍     | 27/61 [00:05<00:06,  5.20it/s]\u001b[A\n",
      "Training:  46%|████▌     | 28/61 [00:05<00:06,  5.01it/s]\u001b[A\n",
      "Training:  48%|████▊     | 29/61 [00:05<00:06,  4.94it/s]\u001b[A\n",
      "Training:  49%|████▉     | 30/61 [00:06<00:06,  5.11it/s]\u001b[A\n",
      "Training:  51%|█████     | 31/61 [00:06<00:05,  5.24it/s]\u001b[A\n",
      "Training:  52%|█████▏    | 32/61 [00:06<00:05,  5.36it/s]\u001b[A\n",
      "Training:  54%|█████▍    | 33/61 [00:06<00:05,  5.02it/s]\u001b[A\n",
      "Training:  56%|█████▌    | 34/61 [00:06<00:05,  4.95it/s]\u001b[A\n",
      "Training:  57%|█████▋    | 35/61 [00:07<00:05,  4.80it/s]\u001b[A\n",
      "Training:  59%|█████▉    | 36/61 [00:07<00:04,  5.05it/s]\u001b[A\n",
      "Training:  61%|██████    | 37/61 [00:07<00:04,  4.97it/s]\u001b[A\n",
      "Training:  62%|██████▏   | 38/61 [00:07<00:04,  5.12it/s]\u001b[A\n",
      "Training:  64%|██████▍   | 39/61 [00:07<00:04,  4.91it/s]\u001b[A\n",
      "Training:  66%|██████▌   | 40/61 [00:08<00:04,  4.76it/s]\u001b[A\n",
      "Training:  67%|██████▋   | 41/61 [00:08<00:04,  4.98it/s]\u001b[A\n",
      "Training:  69%|██████▉   | 42/61 [00:08<00:03,  5.12it/s]\u001b[A\n",
      "Training:  70%|███████   | 43/61 [00:08<00:03,  5.21it/s]\u001b[A\n",
      "Training:  72%|███████▏  | 44/61 [00:08<00:03,  5.28it/s]\u001b[A\n",
      "Training:  74%|███████▍  | 45/61 [00:09<00:03,  5.08it/s]\u001b[A\n",
      "Training:  75%|███████▌  | 46/61 [00:09<00:02,  5.20it/s]\u001b[A\n",
      "Training:  77%|███████▋  | 47/61 [00:09<00:02,  5.00it/s]\u001b[A\n",
      "Training:  79%|███████▊  | 48/61 [00:09<00:02,  5.17it/s]\u001b[A\n",
      "Training:  80%|████████  | 49/61 [00:09<00:02,  5.28it/s]\u001b[A\n",
      "Training:  82%|████████▏ | 50/61 [00:10<00:02,  5.02it/s]\u001b[A\n",
      "Training:  84%|████████▎ | 51/61 [00:10<00:01,  5.18it/s]\u001b[A\n",
      "Training:  85%|████████▌ | 52/61 [00:10<00:01,  4.98it/s]\u001b[A\n",
      "Training:  87%|████████▋ | 53/61 [00:10<00:01,  5.12it/s]\u001b[A\n",
      "Training:  89%|████████▊ | 54/61 [00:10<00:01,  5.22it/s]\u001b[A\n",
      "Training:  90%|█████████ | 55/61 [00:11<00:01,  5.08it/s]\u001b[A\n",
      "Training:  92%|█████████▏| 56/61 [00:11<00:00,  5.24it/s]\u001b[A\n",
      "Training:  93%|█████████▎| 57/61 [00:11<00:00,  5.01it/s]\u001b[A/home/ec2-user/SageMaker/valuenetforked/src/training.py:40: FutureWarning: Non-finite norm encountered in torch.nn.utils.clip_grad_norm_; continuing anyway. Note that the default behavior will change in a future release to error out if a non-finite total norm is encountered. At that point, setting error_if_nonfinite=false will be required to retain the old behavior.\n",
      "  torch.nn.utils.clip_grad_norm_(model.parameters(), clip_grad)\n",
      "\n",
      "Training:  95%|█████████▌| 58/61 [00:11<00:00,  4.97it/s]\u001b[A\n",
      "Training:  97%|█████████▋| 59/61 [00:11<00:00,  5.18it/s]\u001b[A\n",
      "Training:  98%|█████████▊| 60/61 [00:12<00:00,  5.08it/s]\u001b[A\n",
      "Training: 100%|██████████| 61/61 [00:12<00:00,  4.97it/s]\u001b[A\n",
      " 60%|██████    | 3/5 [00:53<00:27, 13.65s/it]"
     ]
    },
    {
     "name": "stdout",
     "output_type": "stream",
     "text": [
      "Training of epoch 3 finished after 12.27 seconds. Evaluate now on the dev-set\n"
     ]
    },
    {
     "name": "stderr",
     "output_type": "stream",
     "text": [
      "\n",
      "                                             it/s]\u001b[A\n",
      " 60%|██████    | 3/5 [00:53<00:27, 13.65s/it]     \n",
      "Evaluating:   0%|          | 0/16 [00:00<?, ?it/s]\u001b[A\n",
      "Evaluating:   6%|▋         | 1/16 [00:00<00:01,  8.73it/s]\u001b[A"
     ]
    },
    {
     "name": "stdout",
     "output_type": "stream",
     "text": [
      "Not all values found during pre-processing for question \"How high is the total share of electric vehicles in the Canton Zurich in the year 2015?\". Replace values with dummy to make query fail\n"
     ]
    },
    {
     "name": "stderr",
     "output_type": "stream",
     "text": [
      "                                             \n",
      " 60%|██████    | 3/5 [00:53<00:27, 13.65s/it]             \n",
      "Evaluating:   6%|▋         | 1/16 [00:00<00:01,  8.73it/s]\u001b[A\n",
      "Evaluating:  12%|█▎        | 2/16 [00:00<00:01,  8.47it/s]\u001b[A"
     ]
    },
    {
     "name": "stdout",
     "output_type": "stream",
     "text": [
      "Not all values found during pre-processing for question \"Which region had the lowest share of electric vehicles in the year 2015?\". Replace values with dummy to make query fail\n"
     ]
    },
    {
     "name": "stderr",
     "output_type": "stream",
     "text": [
      "\n",
      "Evaluating:  19%|█▉        | 3/16 [00:00<00:01,  8.55it/s]\u001b[A\n",
      "Evaluating:  25%|██▌       | 4/16 [00:00<00:01,  8.60it/s]\u001b[A\n",
      "Evaluating:  31%|███▏      | 5/16 [00:00<00:01,  8.75it/s]\u001b[A\n",
      "                                             1,  8.78it/s]\u001b[A\n",
      " 60%|██████    | 3/5 [00:54<00:27, 13.65s/it]             \n",
      "Evaluating:  38%|███▊      | 6/16 [00:00<00:01,  8.78it/s]\u001b[A\n",
      "                                             1,  8.66it/s]\u001b[A\n",
      " 60%|██████    | 3/5 [00:54<00:27, 13.65s/it]             \n",
      "Evaluating:  44%|████▍     | 7/16 [00:00<00:01,  8.66it/s]\u001b[A\n",
      "Evaluating:  50%|█████     | 8/16 [00:00<00:00,  8.52it/s]\u001b[A"
     ]
    },
    {
     "name": "stdout",
     "output_type": "stream",
     "text": [
      "Not all values found during pre-processing for question \"How many municipalities have a share of hybrid vehicles within the newly registered cars higher than 2.6 per year?\". Replace values with dummy to make query fail\n",
      "Not all values found during pre-processing for question \"How high is the total share of hybrid vehicles within the newly registered cars in the Canton Zurich in the year 2012?\". Replace values with dummy to make query fail\n"
     ]
    },
    {
     "name": "stderr",
     "output_type": "stream",
     "text": [
      "                                             \n",
      " 60%|██████    | 3/5 [00:54<00:27, 13.65s/it]             \n",
      "Evaluating:  50%|█████     | 8/16 [00:01<00:00,  8.52it/s]\u001b[A\n",
      "Evaluating:  56%|█████▋    | 9/16 [00:01<00:00,  8.44it/s]\u001b[A\n",
      "Evaluating:  62%|██████▎   | 10/16 [00:01<00:00,  8.43it/s]\u001b[A"
     ]
    },
    {
     "name": "stdout",
     "output_type": "stream",
     "text": [
      "Not all values found during pre-processing for question \"Which region had the lowest share of hybrid vehicles within the newly registered cars in the year 2012?\". Replace values with dummy to make query fail\n"
     ]
    },
    {
     "name": "stderr",
     "output_type": "stream",
     "text": [
      "\n",
      "Evaluating:  69%|██████▉   | 11/16 [00:01<00:00,  8.60it/s]\u001b[A\n",
      "Evaluating:  75%|███████▌  | 12/16 [00:01<00:00,  8.73it/s]\u001b[A\n",
      "                                             00,  8.81it/s]\u001b[A\n",
      " 60%|██████    | 3/5 [00:54<00:27, 13.65s/it]              \n",
      "Evaluating:  81%|████████▏ | 13/16 [00:01<00:00,  8.81it/s]\u001b[A\n",
      "                                             00,  8.53it/s]\u001b[A\n",
      " 60%|██████    | 3/5 [00:55<00:27, 13.65s/it]              \n",
      "Evaluating:  88%|████████▊ | 14/16 [00:01<00:00,  8.53it/s]\u001b[A\n",
      "Evaluating:  94%|█████████▍| 15/16 [00:01<00:00,  8.46it/s]\u001b[A"
     ]
    },
    {
     "name": "stdout",
     "output_type": "stream",
     "text": [
      "Not all values found during pre-processing for question \"How many municipalities have a share of electric vehicles within the newly registered cars higher than 0 per year?\". Replace values with dummy to make query fail\n",
      "Not all values found during pre-processing for question \"How high is the total share of electric vehicles within the newly registered cars in the Canton Zurich in the year 2012?\". Replace values with dummy to make query fail\n"
     ]
    },
    {
     "name": "stderr",
     "output_type": "stream",
     "text": [
      "                                             \n",
      " 60%|██████    | 3/5 [00:55<00:27, 13.65s/it]              \n",
      "Evaluating:  94%|█████████▍| 15/16 [00:01<00:00,  8.46it/s]\u001b[A\n",
      "Evaluating: 100%|██████████| 16/16 [00:01<00:00,  8.52it/s]\u001b[A\n",
      " 80%|████████  | 4/5 [00:55<00:13, 13.90s/it]"
     ]
    },
    {
     "name": "stdout",
     "output_type": "stream",
     "text": [
      "Not all values found during pre-processing for question \"Which region had the lowest share of electric vehicles within the newly registered cars in the year 2012?\". Replace values with dummy to make query fail\n",
      "in 0 times we found the correct results in another beam (failing queries: 16)\n",
      "Epoch: 4    Sketch-Accuracy: 0.0     Accuracy: 0.0\n",
      "Exception\n",
      "Traceback (most recent call last):\n",
      "  File \"/home/ec2-user/SageMaker/valuenetforked/src/intermediate_representation/sem2sql/sem2SQL.py\", line 691, in transform_semQL_to_sql\n",
      "    result = transform(sem_ql_prediction[i], schemas[sem_ql_prediction[i]['db_id']])\n",
      "  File \"/home/ec2-user/SageMaker/valuenetforked/src/intermediate_representation/sem2sql/sem2SQL.py\", line 246, in transform\n",
      "    assert isinstance(c_instance, Root1)\n",
      "AssertionError\n",
      "\n",
      "How high is the total share of electric vehicles in the Canton Zurich in the year 2015?\n",
      "SELECT T1.share_electric_cars FROM share_electric_cars AS T1         JOIN spatialunit AS T2 ON T1.spatialunit_id = T2.spatialunit_id         WHERE T2.type_id = 8 AND T1.year = 2015\n",
      "hack_zurich\n",
      "===\n",
      "\n",
      "\n",
      "Exception\n",
      "Traceback (most recent call last):\n",
      "  File \"/home/ec2-user/SageMaker/valuenetforked/src/intermediate_representation/sem2sql/sem2SQL.py\", line 691, in transform_semQL_to_sql\n",
      "    result = transform(sem_ql_prediction[i], schemas[sem_ql_prediction[i]['db_id']])\n",
      "  File \"/home/ec2-user/SageMaker/valuenetforked/src/intermediate_representation/sem2sql/sem2SQL.py\", line 246, in transform\n",
      "    assert isinstance(c_instance, Root1)\n",
      "AssertionError\n",
      "\n",
      "Which region had the lowest share of electric vehicles in the year 2015?\n",
      "SELECT T2.name         FROM share_electric_cars AS T1         JOIN spatialunit AS T2 ON T1.spatialunit_id = T2.spatialunit_id         WHERE T2.type_id = 4 AND T1.year = 2015         ORDER BY T1.share_electric_cars         LIMIT 1\n",
      "hack_zurich\n",
      "===\n",
      "\n",
      "\n",
      "Exception\n",
      "Traceback (most recent call last):\n",
      "  File \"/home/ec2-user/SageMaker/valuenetforked/src/intermediate_representation/sem2sql/sem2SQL.py\", line 691, in transform_semQL_to_sql\n",
      "    result = transform(sem_ql_prediction[i], schemas[sem_ql_prediction[i]['db_id']])\n",
      "  File \"/home/ec2-user/SageMaker/valuenetforked/src/intermediate_representation/sem2sql/sem2SQL.py\", line 246, in transform\n",
      "    assert isinstance(c_instance, Root1)\n",
      "AssertionError\n",
      "\n",
      "How high is the share of hybrid vehicles within the newly registered cars in Oetwil a.d.L. in the year 2012?\n",
      "SELECT T1.new_hybrid_car_registrations         FROM new_hybrid_car_registrations AS T1         JOIN spatialunit AS T2 ON T1.spatialunit_id = T2.spatialunit_id         WHERE T2.name LIKE 'Oetwil a.d.L.' AND T1.year = 2012\n",
      "hack_zurich\n",
      "===\n",
      "\n",
      "\n",
      "Exception\n",
      "Traceback (most recent call last):\n",
      "  File \"/home/ec2-user/SageMaker/valuenetforked/src/intermediate_representation/sem2sql/sem2SQL.py\", line 691, in transform_semQL_to_sql\n",
      "    result = transform(sem_ql_prediction[i], schemas[sem_ql_prediction[i]['db_id']])\n",
      "  File \"/home/ec2-user/SageMaker/valuenetforked/src/intermediate_representation/sem2sql/sem2SQL.py\", line 246, in transform\n",
      "    assert isinstance(c_instance, Root1)\n",
      "AssertionError\n",
      "\n",
      "Which municipality has the highest share of hybrid vehicles within the newly registered cars?\n",
      "SELECT T2.name         FROM spatialunit AS T2         JOIN new_hybrid_car_registrations AS T1 ON T2.spatialunit_id = T1.spatialunit_id         ORDER BY T1.new_hybrid_car_registrations DESC LIMIT 1\n",
      "hack_zurich\n",
      "===\n",
      "\n",
      "\n",
      "Exception\n",
      "Traceback (most recent call last):\n",
      "  File \"/home/ec2-user/SageMaker/valuenetforked/src/intermediate_representation/sem2sql/sem2SQL.py\", line 691, in transform_semQL_to_sql\n",
      "    result = transform(sem_ql_prediction[i], schemas[sem_ql_prediction[i]['db_id']])\n",
      "  File \"/home/ec2-user/SageMaker/valuenetforked/src/intermediate_representation/sem2sql/sem2SQL.py\", line 246, in transform\n",
      "    assert isinstance(c_instance, Root1)\n",
      "AssertionError\n",
      "\n",
      "Which municipality has the minimum share of hybrid vehicles within the newly registered cars?\n",
      "SELECT T2.name         FROM spatialunit AS T2         JOIN new_hybrid_car_registrations AS T1 ON T2.spatialunit_id = T1.spatialunit_id         ORDER BY T1.new_hybrid_car_registrations ASC LIMIT 1\n",
      "hack_zurich\n",
      "===\n",
      "\n",
      "\n",
      "Exception\n",
      "Traceback (most recent call last):\n",
      "  File \"/home/ec2-user/SageMaker/valuenetforked/src/intermediate_representation/sem2sql/sem2SQL.py\", line 691, in transform_semQL_to_sql\n",
      "    result = transform(sem_ql_prediction[i], schemas[sem_ql_prediction[i]['db_id']])\n",
      "  File \"/home/ec2-user/SageMaker/valuenetforked/src/intermediate_representation/sem2sql/sem2SQL.py\", line 246, in transform\n",
      "    assert isinstance(c_instance, Root1)\n",
      "AssertionError\n",
      "\n",
      "What are the highest, lowest and average share of hybrid vehicles within the newly registered cars?\n",
      "SELECT MAX(T1.new_hybrid_car_registrations::numeric),         MIN(T1.new_hybrid_car_registrations::numeric), AVG(T1.new_hybrid_car_registrations::numeric)         FROM new_hybrid_car_registrations AS T1\n",
      "hack_zurich\n",
      "===\n",
      "\n",
      "\n",
      "Exception\n",
      "Traceback (most recent call last):\n",
      "  File \"/home/ec2-user/SageMaker/valuenetforked/src/intermediate_representation/sem2sql/sem2SQL.py\", line 691, in transform_semQL_to_sql\n",
      "    result = transform(sem_ql_prediction[i], schemas[sem_ql_prediction[i]['db_id']])\n",
      "  File \"/home/ec2-user/SageMaker/valuenetforked/src/intermediate_representation/sem2sql/sem2SQL.py\", line 246, in transform\n",
      "    assert isinstance(c_instance, Root1)\n",
      "AssertionError\n",
      "\n",
      "How many municipalities have a share of hybrid vehicles within the newly registered cars higher than 2.6 per year?\n",
      "SELECT T1.year, COUNT(*)         FROM new_hybrid_car_registrations AS T1         JOIN spatialunit AS T2 ON T1.spatialunit_id = T2.spatialunit_id         WHERE T1.new_hybrid_car_registrations::numeric > 2.6 AND T2.type_id = 1         GROUP BY T1.year\n",
      "hack_zurich\n",
      "===\n",
      "\n",
      "\n",
      "Exception\n",
      "Traceback (most recent call last):\n",
      "  File \"/home/ec2-user/SageMaker/valuenetforked/src/intermediate_representation/sem2sql/sem2SQL.py\", line 691, in transform_semQL_to_sql\n",
      "    result = transform(sem_ql_prediction[i], schemas[sem_ql_prediction[i]['db_id']])\n",
      "  File \"/home/ec2-user/SageMaker/valuenetforked/src/intermediate_representation/sem2sql/sem2SQL.py\", line 246, in transform\n",
      "    assert isinstance(c_instance, Root1)\n",
      "AssertionError\n",
      "\n",
      "How high is the total share of hybrid vehicles within the newly registered cars in the Canton Zurich in the year 2012?\n",
      "SELECT T1.new_hybrid_car_registrations FROM new_hybrid_car_registrations AS T1         JOIN spatialunit AS T2 ON T1.spatialunit_id = T2.spatialunit_id         WHERE T2.type_id = 8 AND T1.year = 2012\n",
      "hack_zurich\n",
      "===\n",
      "\n",
      "\n",
      "Exception\n",
      "Traceback (most recent call last):\n",
      "  File \"/home/ec2-user/SageMaker/valuenetforked/src/intermediate_representation/sem2sql/sem2SQL.py\", line 691, in transform_semQL_to_sql\n",
      "    result = transform(sem_ql_prediction[i], schemas[sem_ql_prediction[i]['db_id']])\n",
      "  File \"/home/ec2-user/SageMaker/valuenetforked/src/intermediate_representation/sem2sql/sem2SQL.py\", line 246, in transform\n",
      "    assert isinstance(c_instance, Root1)\n",
      "AssertionError\n",
      "\n",
      "Which region had the lowest share of hybrid vehicles within the newly registered cars in the year 2012?\n",
      "SELECT T2.name         FROM new_hybrid_car_registrations AS T1         JOIN spatialunit AS T2 ON T1.spatialunit_id = T2.spatialunit_id         WHERE T2.type_id = 4 AND T1.year = 2012         ORDER BY T1.new_hybrid_car_registrations         LIMIT 1\n",
      "hack_zurich\n",
      "===\n",
      "\n",
      "\n",
      "Exception\n",
      "Traceback (most recent call last):\n",
      "  File \"/home/ec2-user/SageMaker/valuenetforked/src/intermediate_representation/sem2sql/sem2SQL.py\", line 691, in transform_semQL_to_sql\n",
      "    result = transform(sem_ql_prediction[i], schemas[sem_ql_prediction[i]['db_id']])\n",
      "  File \"/home/ec2-user/SageMaker/valuenetforked/src/intermediate_representation/sem2sql/sem2SQL.py\", line 246, in transform\n",
      "    assert isinstance(c_instance, Root1)\n",
      "AssertionError\n",
      "\n",
      "How high is the share of electric vehicles within the newly registered cars in Nuerensdorf in the year 2012?\n",
      "SELECT T1.new_electric_car_registrations         FROM new_electric_car_registrations AS T1         JOIN spatialunit AS T2 ON T1.spatialunit_id = T2.spatialunit_id         WHERE T2.name LIKE 'Nuerensdorf' AND T1.year = 2012\n",
      "hack_zurich\n",
      "===\n",
      "\n",
      "\n",
      "Exception\n",
      "Traceback (most recent call last):\n",
      "  File \"/home/ec2-user/SageMaker/valuenetforked/src/intermediate_representation/sem2sql/sem2SQL.py\", line 691, in transform_semQL_to_sql\n",
      "    result = transform(sem_ql_prediction[i], schemas[sem_ql_prediction[i]['db_id']])\n",
      "  File \"/home/ec2-user/SageMaker/valuenetforked/src/intermediate_representation/sem2sql/sem2SQL.py\", line 246, in transform\n",
      "    assert isinstance(c_instance, Root1)\n",
      "AssertionError\n",
      "\n",
      "Which municipality has the highest share of electric vehicles within the newly registered cars?\n",
      "SELECT T2.name         FROM spatialunit AS T2         JOIN new_electric_car_registrations AS T1 ON T2.spatialunit_id = T1.spatialunit_id         ORDER BY T1.new_electric_car_registrations DESC LIMIT 1\n",
      "hack_zurich\n",
      "===\n",
      "\n",
      "\n",
      "Exception\n",
      "Traceback (most recent call last):\n",
      "  File \"/home/ec2-user/SageMaker/valuenetforked/src/intermediate_representation/sem2sql/sem2SQL.py\", line 691, in transform_semQL_to_sql\n",
      "    result = transform(sem_ql_prediction[i], schemas[sem_ql_prediction[i]['db_id']])\n",
      "  File \"/home/ec2-user/SageMaker/valuenetforked/src/intermediate_representation/sem2sql/sem2SQL.py\", line 246, in transform\n",
      "    assert isinstance(c_instance, Root1)\n",
      "AssertionError\n",
      "\n",
      "Which municipality has the minimum share of electric vehicles within the newly registered cars?\n",
      "SELECT T2.name         FROM spatialunit AS T2         JOIN new_electric_car_registrations AS T1 ON T2.spatialunit_id = T1.spatialunit_id         ORDER BY T1.new_electric_car_registrations ASC LIMIT 1\n",
      "hack_zurich\n",
      "===\n",
      "\n",
      "\n",
      "Exception\n",
      "Traceback (most recent call last):\n",
      "  File \"/home/ec2-user/SageMaker/valuenetforked/src/intermediate_representation/sem2sql/sem2SQL.py\", line 691, in transform_semQL_to_sql\n",
      "    result = transform(sem_ql_prediction[i], schemas[sem_ql_prediction[i]['db_id']])\n",
      "  File \"/home/ec2-user/SageMaker/valuenetforked/src/intermediate_representation/sem2sql/sem2SQL.py\", line 246, in transform\n",
      "    assert isinstance(c_instance, Root1)\n",
      "AssertionError\n",
      "\n",
      "What are the highest, lowest and average share of electric vehicles within the newly registered cars?\n",
      "SELECT MAX(T1.new_electric_car_registrations::numeric),         MIN(T1.new_electric_car_registrations::numeric), AVG(T1.new_electric_car_registrations::numeric)         FROM new_electric_car_registrations AS T1\n",
      "hack_zurich\n",
      "===\n",
      "\n",
      "\n",
      "Exception\n",
      "Traceback (most recent call last):\n",
      "  File \"/home/ec2-user/SageMaker/valuenetforked/src/intermediate_representation/sem2sql/sem2SQL.py\", line 691, in transform_semQL_to_sql\n",
      "    result = transform(sem_ql_prediction[i], schemas[sem_ql_prediction[i]['db_id']])\n",
      "  File \"/home/ec2-user/SageMaker/valuenetforked/src/intermediate_representation/sem2sql/sem2SQL.py\", line 246, in transform\n",
      "    assert isinstance(c_instance, Root1)\n",
      "AssertionError\n",
      "\n",
      "How many municipalities have a share of electric vehicles within the newly registered cars higher than 0 per year?\n",
      "SELECT T1.year, COUNT(*)         FROM new_electric_car_registrations AS T1         JOIN spatialunit AS T2 ON T1.spatialunit_id = T2.spatialunit_id         WHERE T1.new_electric_car_registrations::numeric > 0 AND T2.type_id = 1         GROUP BY T1.year\n",
      "hack_zurich\n",
      "===\n",
      "\n",
      "\n",
      "Exception\n",
      "Traceback (most recent call last):\n",
      "  File \"/home/ec2-user/SageMaker/valuenetforked/src/intermediate_representation/sem2sql/sem2SQL.py\", line 691, in transform_semQL_to_sql\n",
      "    result = transform(sem_ql_prediction[i], schemas[sem_ql_prediction[i]['db_id']])\n",
      "  File \"/home/ec2-user/SageMaker/valuenetforked/src/intermediate_representation/sem2sql/sem2SQL.py\", line 246, in transform\n",
      "    assert isinstance(c_instance, Root1)\n",
      "AssertionError\n",
      "\n",
      "How high is the total share of electric vehicles within the newly registered cars in the Canton Zurich in the year 2012?\n",
      "SELECT T1.new_electric_car_registrations FROM new_electric_car_registrations AS T1         JOIN spatialunit AS T2 ON T1.spatialunit_id = T2.spatialunit_id         WHERE T2.type_id = 8 AND T1.year = 2012\n",
      "hack_zurich\n",
      "===\n",
      "\n",
      "\n",
      "Exception\n",
      "Traceback (most recent call last):\n",
      "  File \"/home/ec2-user/SageMaker/valuenetforked/src/intermediate_representation/sem2sql/sem2SQL.py\", line 691, in transform_semQL_to_sql\n",
      "    result = transform(sem_ql_prediction[i], schemas[sem_ql_prediction[i]['db_id']])\n",
      "  File \"/home/ec2-user/SageMaker/valuenetforked/src/intermediate_representation/sem2sql/sem2SQL.py\", line 246, in transform\n",
      "    assert isinstance(c_instance, Root1)\n",
      "AssertionError\n",
      "\n",
      "Which region had the lowest share of electric vehicles within the newly registered cars in the year 2012?\n",
      "SELECT T2.name         FROM new_electric_car_registrations AS T1         JOIN spatialunit AS T2 ON T1.spatialunit_id = T2.spatialunit_id         WHERE T2.type_id = 4 AND T1.year = 2012         ORDER BY T1.new_electric_car_registrations         LIMIT 1\n",
      "hack_zurich\n",
      "===\n",
      "\n",
      "\n",
      "                     easy                 medium               hard                 extra                all                 \n",
      "count                0                    5                    8                    3                    16                  \n",
      "=====================   EXECUTION ACCURACY     =====================\n",
      "execution            0.000                1.000                1.000                1.000                1.000               \n",
      "Successfully transformed 0 of 16 from SemQL to SQL.\n",
      "Results from Spider-Evaluation:\n",
      "easy: 0\n",
      "medium: 1.0\n",
      "hard: 1.0\n",
      "extra: 1.0\n",
      "all: 1.0\n"
     ]
    },
    {
     "name": "stderr",
     "output_type": "stream",
     "text": [
      "\n",
      "Training:   0%|          | 0/61 [00:00<?, ?it/s]\u001b[A\n",
      "Training:   2%|▏         | 1/61 [00:00<00:15,  3.76it/s]\u001b[A\n",
      "Training:   3%|▎         | 2/61 [00:00<00:13,  4.31it/s]\u001b[A\n",
      "Training:   5%|▍         | 3/61 [00:00<00:12,  4.58it/s]\u001b[A\n",
      "Training:   7%|▋         | 4/61 [00:00<00:11,  4.99it/s]\u001b[A\n",
      "Training:   8%|▊         | 5/61 [00:01<00:11,  4.94it/s]\u001b[A\n",
      "Training:  10%|▉         | 6/61 [00:01<00:10,  5.14it/s]\u001b[A\n",
      "Training:  11%|█▏        | 7/61 [00:01<00:10,  4.93it/s]\u001b[A\n",
      "Training:  13%|█▎        | 8/61 [00:01<00:10,  4.86it/s]\u001b[A\n",
      "Training:  15%|█▍        | 9/61 [00:01<00:10,  4.79it/s]\u001b[A\n",
      "Training:  16%|█▋        | 10/61 [00:02<00:10,  4.77it/s]\u001b[A\n",
      "Training:  18%|█▊        | 11/61 [00:02<00:09,  5.01it/s]\u001b[A\n",
      "Training:  20%|█▉        | 12/61 [00:02<00:10,  4.84it/s]\u001b[A\n",
      "Training:  21%|██▏       | 13/61 [00:02<00:09,  5.01it/s]\u001b[A\n",
      "Training:  23%|██▎       | 14/61 [00:02<00:09,  5.13it/s]\u001b[A\n",
      "Training:  25%|██▍       | 15/61 [00:03<00:09,  4.92it/s]\u001b[A\n",
      "Training:  26%|██▌       | 16/61 [00:03<00:08,  5.03it/s]\u001b[A\n",
      "Training:  28%|██▊       | 17/61 [00:03<00:09,  4.77it/s]\u001b[A\n",
      "Training:  30%|██▉       | 18/61 [00:03<00:09,  4.67it/s]\u001b[A\n",
      "Training:  31%|███       | 19/61 [00:03<00:09,  4.49it/s]\u001b[A\n",
      "Training:  33%|███▎      | 20/61 [00:04<00:09,  4.54it/s]\u001b[A\n",
      "Training:  34%|███▍      | 21/61 [00:04<00:08,  4.79it/s]\u001b[A\n",
      "Training:  36%|███▌      | 22/61 [00:04<00:07,  4.94it/s]\u001b[A\n",
      "Training:  38%|███▊      | 23/61 [00:04<00:07,  5.18it/s]\u001b[A\n",
      "Training:  39%|███▉      | 24/61 [00:04<00:06,  5.37it/s]\u001b[A\n",
      "Training:  41%|████      | 25/61 [00:05<00:07,  5.10it/s]\u001b[A\n",
      "Training:  43%|████▎     | 26/61 [00:05<00:06,  5.27it/s]\u001b[A\n",
      "Training:  44%|████▍     | 27/61 [00:05<00:06,  5.42it/s]\u001b[A\n",
      "Training:  46%|████▌     | 28/61 [00:05<00:05,  5.50it/s]\u001b[A\n",
      "Training:  48%|████▊     | 29/61 [00:05<00:06,  5.17it/s]\u001b[A\n",
      "Training:  49%|████▉     | 30/61 [00:06<00:05,  5.33it/s]\u001b[A\n",
      "Training:  51%|█████     | 31/61 [00:06<00:05,  5.13it/s]\u001b[A\n",
      "Training:  52%|█████▏    | 32/61 [00:06<00:05,  5.05it/s]\u001b[A\n",
      "Training:  54%|█████▍    | 33/61 [00:06<00:05,  4.97it/s]\u001b[A\n",
      "Training:  56%|█████▌    | 34/61 [00:06<00:05,  5.18it/s]\u001b[A\n",
      "Training:  57%|█████▋    | 35/61 [00:07<00:05,  5.09it/s]\u001b[A\n",
      "Training:  59%|█████▉    | 36/61 [00:07<00:04,  5.28it/s]\u001b[A\n",
      "Training:  61%|██████    | 37/61 [00:07<00:04,  5.16it/s]\u001b[A\n",
      "Training:  62%|██████▏   | 38/61 [00:07<00:04,  5.33it/s]\u001b[A\n",
      "Training:  64%|██████▍   | 39/61 [00:07<00:04,  5.04it/s]\u001b[A\n",
      "Training:  66%|██████▌   | 40/61 [00:07<00:04,  5.20it/s]\u001b[A\n",
      "Training:  67%|██████▋   | 41/61 [00:08<00:03,  5.02it/s]\u001b[A\n",
      "Training:  69%|██████▉   | 42/61 [00:08<00:03,  4.90it/s]\u001b[A\n",
      "Training:  70%|███████   | 43/61 [00:08<00:03,  4.87it/s]\u001b[A\n",
      "Training:  72%|███████▏  | 44/61 [00:08<00:03,  4.85it/s]\u001b[A\n",
      "Training:  74%|███████▍  | 45/61 [00:09<00:03,  5.08it/s]\u001b[A\n",
      "Training:  75%|███████▌  | 46/61 [00:09<00:03,  4.89it/s]\u001b[A\n",
      "Training:  77%|███████▋  | 47/61 [00:09<00:02,  5.07it/s]\u001b[A\n",
      "Training:  79%|███████▊  | 48/61 [00:09<00:02,  5.01it/s]\u001b[A\n",
      "Training:  80%|████████  | 49/61 [00:09<00:02,  4.96it/s]\u001b[A\n",
      "Training:  82%|████████▏ | 50/61 [00:10<00:02,  4.88it/s]\u001b[A\n",
      "Training:  84%|████████▎ | 51/61 [00:10<00:01,  5.09it/s]\u001b[A\n",
      "Training:  85%|████████▌ | 52/61 [00:10<00:01,  5.29it/s]\u001b[A\n",
      "Training:  87%|████████▋ | 53/61 [00:10<00:01,  5.16it/s]\u001b[A\n",
      "Training:  89%|████████▊ | 54/61 [00:10<00:01,  4.94it/s]\u001b[A\n",
      "Training:  90%|█████████ | 55/61 [00:11<00:01,  4.86it/s]\u001b[A\n",
      "Training:  92%|█████████▏| 56/61 [00:11<00:00,  5.03it/s]\u001b[A\n",
      "Training:  93%|█████████▎| 57/61 [00:11<00:00,  5.23it/s]\u001b[A\n",
      "Training:  95%|█████████▌| 58/61 [00:11<00:00,  5.39it/s]\u001b[A\n",
      "Training:  97%|█████████▋| 59/61 [00:11<00:00,  5.22it/s]\u001b[A\n",
      "Training:  98%|█████████▊| 60/61 [00:11<00:00,  5.12it/s]\u001b[A\n",
      "Training: 100%|██████████| 61/61 [00:12<00:00,  5.00it/s]\u001b[A\n",
      " 80%|████████  | 4/5 [01:07<00:13, 13.90s/it]"
     ]
    },
    {
     "name": "stdout",
     "output_type": "stream",
     "text": [
      "Training of epoch 4 finished after 12.21 seconds. Evaluate now on the dev-set\n"
     ]
    },
    {
     "name": "stderr",
     "output_type": "stream",
     "text": [
      "\n",
      "                                             it/s]\u001b[A\n",
      " 80%|████████  | 4/5 [01:07<00:13, 13.90s/it]     \n",
      "Evaluating:   0%|          | 0/16 [00:00<?, ?it/s]\u001b[A\n",
      "Evaluating:   6%|▋         | 1/16 [00:00<00:01,  8.14it/s]\u001b[A"
     ]
    },
    {
     "name": "stdout",
     "output_type": "stream",
     "text": [
      "Not all values found during pre-processing for question \"How high is the total share of electric vehicles in the Canton Zurich in the year 2015?\". Replace values with dummy to make query fail\n"
     ]
    },
    {
     "name": "stderr",
     "output_type": "stream",
     "text": [
      "                                             \n",
      " 80%|████████  | 4/5 [01:07<00:13, 13.90s/it]             \n",
      "Evaluating:   6%|▋         | 1/16 [00:00<00:01,  8.14it/s]\u001b[A\n",
      "Evaluating:  12%|█▎        | 2/16 [00:00<00:01,  8.03it/s]\u001b[A"
     ]
    },
    {
     "name": "stdout",
     "output_type": "stream",
     "text": [
      "Not all values found during pre-processing for question \"Which region had the lowest share of electric vehicles in the year 2015?\". Replace values with dummy to make query fail\n"
     ]
    },
    {
     "name": "stderr",
     "output_type": "stream",
     "text": [
      "\n",
      "Evaluating:  19%|█▉        | 3/16 [00:00<00:01,  8.09it/s]\u001b[A\n",
      "Evaluating:  25%|██▌       | 4/16 [00:00<00:01,  8.33it/s]\u001b[A\n",
      "Evaluating:  31%|███▏      | 5/16 [00:00<00:01,  8.62it/s]\u001b[A\n",
      "                                             1,  8.80it/s]\u001b[A\n",
      " 80%|████████  | 4/5 [01:08<00:13, 13.90s/it]             \n",
      "Evaluating:  38%|███▊      | 6/16 [00:00<00:01,  8.80it/s]\u001b[A\n",
      "                                             1,  8.71it/s]\u001b[A\n",
      " 80%|████████  | 4/5 [01:08<00:13, 13.90s/it]             \n",
      "Evaluating:  44%|████▍     | 7/16 [00:00<00:01,  8.71it/s]\u001b[A\n",
      "Evaluating:  50%|█████     | 8/16 [00:00<00:00,  8.57it/s]\u001b[A"
     ]
    },
    {
     "name": "stdout",
     "output_type": "stream",
     "text": [
      "Not all values found during pre-processing for question \"How many municipalities have a share of hybrid vehicles within the newly registered cars higher than 2.6 per year?\". Replace values with dummy to make query fail\n",
      "Not all values found during pre-processing for question \"How high is the total share of hybrid vehicles within the newly registered cars in the Canton Zurich in the year 2012?\". Replace values with dummy to make query fail\n"
     ]
    },
    {
     "name": "stderr",
     "output_type": "stream",
     "text": [
      "                                             \n",
      " 80%|████████  | 4/5 [01:08<00:13, 13.90s/it]             \n",
      "Evaluating:  50%|█████     | 8/16 [00:01<00:00,  8.57it/s]\u001b[A\n",
      "Evaluating:  56%|█████▋    | 9/16 [00:01<00:00,  8.53it/s]\u001b[A\n",
      "Evaluating:  62%|██████▎   | 10/16 [00:01<00:00,  8.62it/s]\u001b[A"
     ]
    },
    {
     "name": "stdout",
     "output_type": "stream",
     "text": [
      "Not all values found during pre-processing for question \"Which region had the lowest share of hybrid vehicles within the newly registered cars in the year 2012?\". Replace values with dummy to make query fail\n"
     ]
    },
    {
     "name": "stderr",
     "output_type": "stream",
     "text": [
      "\n",
      "Evaluating:  69%|██████▉   | 11/16 [00:01<00:00,  8.78it/s]\u001b[A\n",
      "Evaluating:  75%|███████▌  | 12/16 [00:01<00:00,  8.82it/s]\u001b[A\n",
      "                                             00,  8.85it/s]\u001b[A\n",
      " 80%|████████  | 4/5 [01:09<00:13, 13.90s/it]              \n",
      "Evaluating:  81%|████████▏ | 13/16 [00:01<00:00,  8.85it/s]\u001b[A\n",
      "                                             00,  8.78it/s]\u001b[A\n",
      " 80%|████████  | 4/5 [01:09<00:13, 13.90s/it]              \n",
      "Evaluating:  88%|████████▊ | 14/16 [00:01<00:00,  8.78it/s]\u001b[A\n",
      "Evaluating:  94%|█████████▍| 15/16 [00:01<00:00,  8.65it/s]\u001b[A"
     ]
    },
    {
     "name": "stdout",
     "output_type": "stream",
     "text": [
      "Not all values found during pre-processing for question \"How many municipalities have a share of electric vehicles within the newly registered cars higher than 0 per year?\". Replace values with dummy to make query fail\n",
      "Not all values found during pre-processing for question \"How high is the total share of electric vehicles within the newly registered cars in the Canton Zurich in the year 2012?\". Replace values with dummy to make query fail\n"
     ]
    },
    {
     "name": "stderr",
     "output_type": "stream",
     "text": [
      "                                             \n",
      " 80%|████████  | 4/5 [01:09<00:13, 13.90s/it]              \n",
      "Evaluating:  94%|█████████▍| 15/16 [00:01<00:00,  8.65it/s]\u001b[A\n",
      "Evaluating: 100%|██████████| 16/16 [00:01<00:00,  8.60it/s]\u001b[A\n",
      "100%|██████████| 5/5 [01:09<00:00, 13.91s/it]"
     ]
    },
    {
     "name": "stdout",
     "output_type": "stream",
     "text": [
      "Not all values found during pre-processing for question \"Which region had the lowest share of electric vehicles within the newly registered cars in the year 2012?\". Replace values with dummy to make query fail\n",
      "in 0 times we found the correct results in another beam (failing queries: 16)\n",
      "Epoch: 5    Sketch-Accuracy: 0.0     Accuracy: 0.0\n",
      "Exception\n",
      "Traceback (most recent call last):\n",
      "  File \"/home/ec2-user/SageMaker/valuenetforked/src/intermediate_representation/sem2sql/sem2SQL.py\", line 691, in transform_semQL_to_sql\n",
      "    result = transform(sem_ql_prediction[i], schemas[sem_ql_prediction[i]['db_id']])\n",
      "  File \"/home/ec2-user/SageMaker/valuenetforked/src/intermediate_representation/sem2sql/sem2SQL.py\", line 246, in transform\n",
      "    assert isinstance(c_instance, Root1)\n",
      "AssertionError\n",
      "\n",
      "How high is the total share of electric vehicles in the Canton Zurich in the year 2015?\n",
      "SELECT T1.share_electric_cars FROM share_electric_cars AS T1         JOIN spatialunit AS T2 ON T1.spatialunit_id = T2.spatialunit_id         WHERE T2.type_id = 8 AND T1.year = 2015\n",
      "hack_zurich\n",
      "===\n",
      "\n",
      "\n",
      "Exception\n",
      "Traceback (most recent call last):\n",
      "  File \"/home/ec2-user/SageMaker/valuenetforked/src/intermediate_representation/sem2sql/sem2SQL.py\", line 691, in transform_semQL_to_sql\n",
      "    result = transform(sem_ql_prediction[i], schemas[sem_ql_prediction[i]['db_id']])\n",
      "  File \"/home/ec2-user/SageMaker/valuenetforked/src/intermediate_representation/sem2sql/sem2SQL.py\", line 246, in transform\n",
      "    assert isinstance(c_instance, Root1)\n",
      "AssertionError\n",
      "\n",
      "Which region had the lowest share of electric vehicles in the year 2015?\n",
      "SELECT T2.name         FROM share_electric_cars AS T1         JOIN spatialunit AS T2 ON T1.spatialunit_id = T2.spatialunit_id         WHERE T2.type_id = 4 AND T1.year = 2015         ORDER BY T1.share_electric_cars         LIMIT 1\n",
      "hack_zurich\n",
      "===\n",
      "\n",
      "\n",
      "Exception\n",
      "Traceback (most recent call last):\n",
      "  File \"/home/ec2-user/SageMaker/valuenetforked/src/intermediate_representation/sem2sql/sem2SQL.py\", line 691, in transform_semQL_to_sql\n",
      "    result = transform(sem_ql_prediction[i], schemas[sem_ql_prediction[i]['db_id']])\n",
      "  File \"/home/ec2-user/SageMaker/valuenetforked/src/intermediate_representation/sem2sql/sem2SQL.py\", line 246, in transform\n",
      "    assert isinstance(c_instance, Root1)\n",
      "AssertionError\n",
      "\n",
      "How high is the share of hybrid vehicles within the newly registered cars in Oetwil a.d.L. in the year 2012?\n",
      "SELECT T1.new_hybrid_car_registrations         FROM new_hybrid_car_registrations AS T1         JOIN spatialunit AS T2 ON T1.spatialunit_id = T2.spatialunit_id         WHERE T2.name LIKE 'Oetwil a.d.L.' AND T1.year = 2012\n",
      "hack_zurich\n",
      "===\n",
      "\n",
      "\n",
      "Exception\n",
      "Traceback (most recent call last):\n",
      "  File \"/home/ec2-user/SageMaker/valuenetforked/src/intermediate_representation/sem2sql/sem2SQL.py\", line 691, in transform_semQL_to_sql\n",
      "    result = transform(sem_ql_prediction[i], schemas[sem_ql_prediction[i]['db_id']])\n",
      "  File \"/home/ec2-user/SageMaker/valuenetforked/src/intermediate_representation/sem2sql/sem2SQL.py\", line 246, in transform\n",
      "    assert isinstance(c_instance, Root1)\n",
      "AssertionError\n",
      "\n",
      "Which municipality has the highest share of hybrid vehicles within the newly registered cars?\n",
      "SELECT T2.name         FROM spatialunit AS T2         JOIN new_hybrid_car_registrations AS T1 ON T2.spatialunit_id = T1.spatialunit_id         ORDER BY T1.new_hybrid_car_registrations DESC LIMIT 1\n",
      "hack_zurich\n",
      "===\n",
      "\n",
      "\n",
      "Exception\n",
      "Traceback (most recent call last):\n",
      "  File \"/home/ec2-user/SageMaker/valuenetforked/src/intermediate_representation/sem2sql/sem2SQL.py\", line 691, in transform_semQL_to_sql\n",
      "    result = transform(sem_ql_prediction[i], schemas[sem_ql_prediction[i]['db_id']])\n",
      "  File \"/home/ec2-user/SageMaker/valuenetforked/src/intermediate_representation/sem2sql/sem2SQL.py\", line 246, in transform\n",
      "    assert isinstance(c_instance, Root1)\n",
      "AssertionError\n",
      "\n",
      "Which municipality has the minimum share of hybrid vehicles within the newly registered cars?\n",
      "SELECT T2.name         FROM spatialunit AS T2         JOIN new_hybrid_car_registrations AS T1 ON T2.spatialunit_id = T1.spatialunit_id         ORDER BY T1.new_hybrid_car_registrations ASC LIMIT 1\n",
      "hack_zurich\n",
      "===\n",
      "\n",
      "\n",
      "Exception\n",
      "Traceback (most recent call last):\n",
      "  File \"/home/ec2-user/SageMaker/valuenetforked/src/intermediate_representation/sem2sql/sem2SQL.py\", line 691, in transform_semQL_to_sql\n",
      "    result = transform(sem_ql_prediction[i], schemas[sem_ql_prediction[i]['db_id']])\n",
      "  File \"/home/ec2-user/SageMaker/valuenetforked/src/intermediate_representation/sem2sql/sem2SQL.py\", line 246, in transform\n",
      "    assert isinstance(c_instance, Root1)\n",
      "AssertionError\n",
      "\n",
      "What are the highest, lowest and average share of hybrid vehicles within the newly registered cars?\n",
      "SELECT MAX(T1.new_hybrid_car_registrations::numeric),         MIN(T1.new_hybrid_car_registrations::numeric), AVG(T1.new_hybrid_car_registrations::numeric)         FROM new_hybrid_car_registrations AS T1\n",
      "hack_zurich\n",
      "===\n",
      "\n",
      "\n",
      "Exception\n",
      "Traceback (most recent call last):\n",
      "  File \"/home/ec2-user/SageMaker/valuenetforked/src/intermediate_representation/sem2sql/sem2SQL.py\", line 691, in transform_semQL_to_sql\n",
      "    result = transform(sem_ql_prediction[i], schemas[sem_ql_prediction[i]['db_id']])\n",
      "  File \"/home/ec2-user/SageMaker/valuenetforked/src/intermediate_representation/sem2sql/sem2SQL.py\", line 246, in transform\n",
      "    assert isinstance(c_instance, Root1)\n",
      "AssertionError\n",
      "\n",
      "How many municipalities have a share of hybrid vehicles within the newly registered cars higher than 2.6 per year?\n",
      "SELECT T1.year, COUNT(*)         FROM new_hybrid_car_registrations AS T1         JOIN spatialunit AS T2 ON T1.spatialunit_id = T2.spatialunit_id         WHERE T1.new_hybrid_car_registrations::numeric > 2.6 AND T2.type_id = 1         GROUP BY T1.year\n",
      "hack_zurich\n",
      "===\n",
      "\n",
      "\n",
      "Exception\n",
      "Traceback (most recent call last):\n",
      "  File \"/home/ec2-user/SageMaker/valuenetforked/src/intermediate_representation/sem2sql/sem2SQL.py\", line 691, in transform_semQL_to_sql\n",
      "    result = transform(sem_ql_prediction[i], schemas[sem_ql_prediction[i]['db_id']])\n",
      "  File \"/home/ec2-user/SageMaker/valuenetforked/src/intermediate_representation/sem2sql/sem2SQL.py\", line 246, in transform\n",
      "    assert isinstance(c_instance, Root1)\n",
      "AssertionError\n",
      "\n",
      "How high is the total share of hybrid vehicles within the newly registered cars in the Canton Zurich in the year 2012?\n",
      "SELECT T1.new_hybrid_car_registrations FROM new_hybrid_car_registrations AS T1         JOIN spatialunit AS T2 ON T1.spatialunit_id = T2.spatialunit_id         WHERE T2.type_id = 8 AND T1.year = 2012\n",
      "hack_zurich\n",
      "===\n",
      "\n",
      "\n",
      "Exception\n",
      "Traceback (most recent call last):\n",
      "  File \"/home/ec2-user/SageMaker/valuenetforked/src/intermediate_representation/sem2sql/sem2SQL.py\", line 691, in transform_semQL_to_sql\n",
      "    result = transform(sem_ql_prediction[i], schemas[sem_ql_prediction[i]['db_id']])\n",
      "  File \"/home/ec2-user/SageMaker/valuenetforked/src/intermediate_representation/sem2sql/sem2SQL.py\", line 246, in transform\n",
      "    assert isinstance(c_instance, Root1)\n",
      "AssertionError\n",
      "\n",
      "Which region had the lowest share of hybrid vehicles within the newly registered cars in the year 2012?\n",
      "SELECT T2.name         FROM new_hybrid_car_registrations AS T1         JOIN spatialunit AS T2 ON T1.spatialunit_id = T2.spatialunit_id         WHERE T2.type_id = 4 AND T1.year = 2012         ORDER BY T1.new_hybrid_car_registrations         LIMIT 1\n",
      "hack_zurich\n",
      "===\n",
      "\n",
      "\n",
      "Exception\n",
      "Traceback (most recent call last):\n",
      "  File \"/home/ec2-user/SageMaker/valuenetforked/src/intermediate_representation/sem2sql/sem2SQL.py\", line 691, in transform_semQL_to_sql\n",
      "    result = transform(sem_ql_prediction[i], schemas[sem_ql_prediction[i]['db_id']])\n",
      "  File \"/home/ec2-user/SageMaker/valuenetforked/src/intermediate_representation/sem2sql/sem2SQL.py\", line 246, in transform\n",
      "    assert isinstance(c_instance, Root1)\n",
      "AssertionError\n",
      "\n",
      "How high is the share of electric vehicles within the newly registered cars in Nuerensdorf in the year 2012?\n",
      "SELECT T1.new_electric_car_registrations         FROM new_electric_car_registrations AS T1         JOIN spatialunit AS T2 ON T1.spatialunit_id = T2.spatialunit_id         WHERE T2.name LIKE 'Nuerensdorf' AND T1.year = 2012\n",
      "hack_zurich\n",
      "===\n",
      "\n",
      "\n",
      "Exception\n",
      "Traceback (most recent call last):\n",
      "  File \"/home/ec2-user/SageMaker/valuenetforked/src/intermediate_representation/sem2sql/sem2SQL.py\", line 691, in transform_semQL_to_sql\n",
      "    result = transform(sem_ql_prediction[i], schemas[sem_ql_prediction[i]['db_id']])\n",
      "  File \"/home/ec2-user/SageMaker/valuenetforked/src/intermediate_representation/sem2sql/sem2SQL.py\", line 246, in transform\n",
      "    assert isinstance(c_instance, Root1)\n",
      "AssertionError\n",
      "\n",
      "Which municipality has the highest share of electric vehicles within the newly registered cars?\n",
      "SELECT T2.name         FROM spatialunit AS T2         JOIN new_electric_car_registrations AS T1 ON T2.spatialunit_id = T1.spatialunit_id         ORDER BY T1.new_electric_car_registrations DESC LIMIT 1\n",
      "hack_zurich\n",
      "===\n",
      "\n",
      "\n",
      "Exception\n",
      "Traceback (most recent call last):\n",
      "  File \"/home/ec2-user/SageMaker/valuenetforked/src/intermediate_representation/sem2sql/sem2SQL.py\", line 691, in transform_semQL_to_sql\n",
      "    result = transform(sem_ql_prediction[i], schemas[sem_ql_prediction[i]['db_id']])\n",
      "  File \"/home/ec2-user/SageMaker/valuenetforked/src/intermediate_representation/sem2sql/sem2SQL.py\", line 246, in transform\n",
      "    assert isinstance(c_instance, Root1)\n",
      "AssertionError\n",
      "\n",
      "Which municipality has the minimum share of electric vehicles within the newly registered cars?\n",
      "SELECT T2.name         FROM spatialunit AS T2         JOIN new_electric_car_registrations AS T1 ON T2.spatialunit_id = T1.spatialunit_id         ORDER BY T1.new_electric_car_registrations ASC LIMIT 1\n",
      "hack_zurich\n",
      "===\n",
      "\n",
      "\n",
      "Exception\n",
      "Traceback (most recent call last):\n",
      "  File \"/home/ec2-user/SageMaker/valuenetforked/src/intermediate_representation/sem2sql/sem2SQL.py\", line 691, in transform_semQL_to_sql\n",
      "    result = transform(sem_ql_prediction[i], schemas[sem_ql_prediction[i]['db_id']])\n",
      "  File \"/home/ec2-user/SageMaker/valuenetforked/src/intermediate_representation/sem2sql/sem2SQL.py\", line 246, in transform\n",
      "    assert isinstance(c_instance, Root1)\n",
      "AssertionError\n",
      "\n",
      "What are the highest, lowest and average share of electric vehicles within the newly registered cars?\n",
      "SELECT MAX(T1.new_electric_car_registrations::numeric),         MIN(T1.new_electric_car_registrations::numeric), AVG(T1.new_electric_car_registrations::numeric)         FROM new_electric_car_registrations AS T1\n",
      "hack_zurich\n",
      "===\n",
      "\n",
      "\n",
      "Exception\n",
      "Traceback (most recent call last):\n",
      "  File \"/home/ec2-user/SageMaker/valuenetforked/src/intermediate_representation/sem2sql/sem2SQL.py\", line 691, in transform_semQL_to_sql\n",
      "    result = transform(sem_ql_prediction[i], schemas[sem_ql_prediction[i]['db_id']])\n",
      "  File \"/home/ec2-user/SageMaker/valuenetforked/src/intermediate_representation/sem2sql/sem2SQL.py\", line 246, in transform\n",
      "    assert isinstance(c_instance, Root1)\n",
      "AssertionError\n",
      "\n",
      "How many municipalities have a share of electric vehicles within the newly registered cars higher than 0 per year?\n",
      "SELECT T1.year, COUNT(*)         FROM new_electric_car_registrations AS T1         JOIN spatialunit AS T2 ON T1.spatialunit_id = T2.spatialunit_id         WHERE T1.new_electric_car_registrations::numeric > 0 AND T2.type_id = 1         GROUP BY T1.year\n",
      "hack_zurich\n",
      "===\n",
      "\n",
      "\n",
      "Exception\n",
      "Traceback (most recent call last):\n",
      "  File \"/home/ec2-user/SageMaker/valuenetforked/src/intermediate_representation/sem2sql/sem2SQL.py\", line 691, in transform_semQL_to_sql\n",
      "    result = transform(sem_ql_prediction[i], schemas[sem_ql_prediction[i]['db_id']])\n",
      "  File \"/home/ec2-user/SageMaker/valuenetforked/src/intermediate_representation/sem2sql/sem2SQL.py\", line 246, in transform\n",
      "    assert isinstance(c_instance, Root1)\n",
      "AssertionError\n",
      "\n",
      "How high is the total share of electric vehicles within the newly registered cars in the Canton Zurich in the year 2012?\n",
      "SELECT T1.new_electric_car_registrations FROM new_electric_car_registrations AS T1         JOIN spatialunit AS T2 ON T1.spatialunit_id = T2.spatialunit_id         WHERE T2.type_id = 8 AND T1.year = 2012\n",
      "hack_zurich\n",
      "===\n",
      "\n",
      "\n",
      "Exception\n",
      "Traceback (most recent call last):\n",
      "  File \"/home/ec2-user/SageMaker/valuenetforked/src/intermediate_representation/sem2sql/sem2SQL.py\", line 691, in transform_semQL_to_sql\n",
      "    result = transform(sem_ql_prediction[i], schemas[sem_ql_prediction[i]['db_id']])\n",
      "  File \"/home/ec2-user/SageMaker/valuenetforked/src/intermediate_representation/sem2sql/sem2SQL.py\", line 246, in transform\n",
      "    assert isinstance(c_instance, Root1)\n",
      "AssertionError\n",
      "\n",
      "Which region had the lowest share of electric vehicles within the newly registered cars in the year 2012?\n",
      "SELECT T2.name         FROM new_electric_car_registrations AS T1         JOIN spatialunit AS T2 ON T1.spatialunit_id = T2.spatialunit_id         WHERE T2.type_id = 4 AND T1.year = 2012         ORDER BY T1.new_electric_car_registrations         LIMIT 1\n",
      "hack_zurich\n",
      "===\n",
      "\n",
      "\n",
      "                     easy                 medium               hard                 extra                all                 \n",
      "count                0                    5                    8                    3                    16                  \n",
      "=====================   EXECUTION ACCURACY     =====================\n",
      "execution            0.000                1.000                1.000                1.000                1.000               \n",
      "Successfully transformed 0 of 16 from SemQL to SQL.\n",
      "Results from Spider-Evaluation:\n",
      "easy: 0\n",
      "medium: 1.0\n",
      "hard: 1.0\n",
      "extra: 1.0\n",
      "all: 1.0\n"
     ]
    },
    {
     "name": "stderr",
     "output_type": "stream",
     "text": [
      "\n"
     ]
    }
   ],
   "source": [
    "%run src/main.py --exp_name {exp_name} --data_set hack_zurich --cuda --batch_size 1 --num_epochs 5 --loss_epoch_threshold 70 --sketch_loss_weight 1.0 --beam_size 1 --seed 90"
   ]
  },
  {
   "cell_type": "code",
   "execution_count": null,
   "id": "34ddd310",
   "metadata": {},
   "outputs": [],
   "source": []
  },
  {
   "cell_type": "code",
   "execution_count": null,
   "id": "729134f9",
   "metadata": {},
   "outputs": [],
   "source": []
  }
 ],
 "metadata": {
  "kernelspec": {
   "display_name": "conda_valuenet",
   "language": "python",
   "name": "conda_valuenet"
  },
  "language_info": {
   "codemirror_mode": {
    "name": "ipython",
    "version": 3
   },
   "file_extension": ".py",
   "mimetype": "text/x-python",
   "name": "python",
   "nbconvert_exporter": "python",
   "pygments_lexer": "ipython3",
   "version": "3.8.12"
  }
 },
 "nbformat": 4,
 "nbformat_minor": 5
}
