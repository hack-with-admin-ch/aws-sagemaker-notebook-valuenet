{
 "cells": [
  {
   "cell_type": "markdown",
   "id": "73de4076",
   "metadata": {},
   "source": [
    "# Setup"
   ]
  },
  {
   "cell_type": "code",
   "execution_count": null,
   "id": "f61d0b46",
   "metadata": {},
   "outputs": [],
   "source": [
    "%cd /home/ec2-user/SageMaker/valuenet"
   ]
  },
  {
   "cell_type": "code",
   "execution_count": null,
   "id": "8228739f",
   "metadata": {},
   "outputs": [],
   "source": [
    "!pip install -r requirements.txt"
   ]
  },
  {
   "cell_type": "code",
   "execution_count": null,
   "id": "d4bc80e2",
   "metadata": {},
   "outputs": [],
   "source": [
    "!pip install ipywidgets"
   ]
  },
  {
   "cell_type": "code",
   "execution_count": null,
   "id": "83d1fa99",
   "metadata": {},
   "outputs": [],
   "source": [
    "!spacy download en_core_web_sm\n",
    "# import spacy\n",
    "# spacy.load('en_core_web_sm')"
   ]
  },
  {
   "cell_type": "code",
   "execution_count": null,
   "id": "9ff4fdaf",
   "metadata": {},
   "outputs": [],
   "source": [
    "%run src/tools/download_nltk.py"
   ]
  },
  {
   "cell_type": "markdown",
   "id": "f3547b78",
   "metadata": {},
   "source": [
    "## Validation"
   ]
  },
  {
   "cell_type": "markdown",
   "id": "b08ca8a1",
   "metadata": {},
   "source": [
    "check that cuda is working"
   ]
  },
  {
   "cell_type": "code",
   "execution_count": null,
   "id": "08153fed",
   "metadata": {},
   "outputs": [],
   "source": [
    "%run src/tools/is_cuda_working.py"
   ]
  },
  {
   "cell_type": "code",
   "execution_count": null,
   "id": "ad04dd85",
   "metadata": {},
   "outputs": [],
   "source": [
    "!python --version"
   ]
  },
  {
   "cell_type": "code",
   "execution_count": null,
   "id": "e9500d86",
   "metadata": {},
   "outputs": [],
   "source": []
  }
 ],
 "metadata": {
  "kernelspec": {
   "display_name": "conda_valuenet",
   "language": "python",
   "name": "conda_valuenet"
  },
  "language_info": {
   "codemirror_mode": {
    "name": "ipython",
    "version": 3
   },
   "file_extension": ".py",
   "mimetype": "text/x-python",
   "name": "python",
   "nbconvert_exporter": "python",
   "pygments_lexer": "ipython3",
   "version": "3.8.12"
  }
 },
 "nbformat": 4,
 "nbformat_minor": 5
}
