{
 "cells": [
  {
   "cell_type": "markdown",
   "id": "d6be6433",
   "metadata": {},
   "source": [
    "# Initialization"
   ]
  },
  {
   "cell_type": "markdown",
   "id": "716bbc60",
   "metadata": {},
   "source": [
    "Change to `valuenet` directory and add `src` path to `PYTHONPATH`."
   ]
  },
  {
   "cell_type": "code",
   "execution_count": 5,
   "id": "0ebdb8f3",
   "metadata": {},
   "outputs": [
    {
     "name": "stdout",
     "output_type": "stream",
     "text": [
      "/home/ec2-user/SageMaker/valuenetforked\n"
     ]
    }
   ],
   "source": [
    "%cd /home/ec2-user/SageMaker/valuenetforked"
   ]
  },
  {
   "cell_type": "code",
   "execution_count": 7,
   "id": "1afb4296",
   "metadata": {},
   "outputs": [
    {
     "data": {
      "text/plain": [
       "['/home/ec2-user/SageMaker/valuenetforked/src',\n",
       " '/home/ec2-user/SageMaker/aws-sagemaker-notebook-valuenet',\n",
       " '/home/ec2-user/SageMaker/custom-miniconda/miniconda/envs/valuenet/lib/python38.zip',\n",
       " '/home/ec2-user/SageMaker/custom-miniconda/miniconda/envs/valuenet/lib/python3.8',\n",
       " '/home/ec2-user/SageMaker/custom-miniconda/miniconda/envs/valuenet/lib/python3.8/lib-dynload',\n",
       " '',\n",
       " '/home/ec2-user/SageMaker/custom-miniconda/miniconda/envs/valuenet/lib/python3.8/site-packages',\n",
       " '/home/ec2-user/SageMaker/custom-miniconda/miniconda/envs/valuenet/lib/python3.8/site-packages/IPython/extensions',\n",
       " '/home/ec2-user/.ipython']"
      ]
     },
     "execution_count": 7,
     "metadata": {},
     "output_type": "execute_result"
    }
   ],
   "source": [
    "import sys\n",
    "sys.path.insert(0, '/home/ec2-user/SageMaker/valuenetforked/src')\n",
    "sys.path"
   ]
  },
  {
   "cell_type": "markdown",
   "id": "4bef755f",
   "metadata": {},
   "source": [
    "Read environment"
   ]
  },
  {
   "cell_type": "code",
   "execution_count": 8,
   "id": "cf590397",
   "metadata": {},
   "outputs": [],
   "source": [
    "NER_API_SECRET=%env NER_API_SECRET\n",
    "API_KEY=%env API_KEY\n",
    "DB_USER=%env DB_USER\n",
    "DB_PW=%env DB_PW\n",
    "DB_HOST=%env DB_HOST\n",
    "DB_PORT=%env DB_PORT\n",
    "DB_SCHEMA=\"public\""
   ]
  },
  {
   "cell_type": "markdown",
   "id": "63fe0475",
   "metadata": {},
   "source": [
    "# Prepare & Preprocess Data"
   ]
  },
  {
   "cell_type": "markdown",
   "id": "e6aa8bc3",
   "metadata": {},
   "source": [
    "We follow the [user manual from Valuenet](https://github.com/brunnurs/valuenet)."
   ]
  },
  {
   "cell_type": "markdown",
   "id": "9bedc9b9",
   "metadata": {},
   "source": [
    "## Add your custom data"
   ]
  },
  {
   "cell_type": "markdown",
   "id": "ca88ad7b",
   "metadata": {},
   "source": [
    "An example of custom data preparation can be found in statbot repository: [generate_sql_statments_and_questions.ipynb](https://github.com/statistikZH/statbot/blob/main/hackathon_hackzurich/generate_sql_statments_and_questions.ipynb). In this repository, random values are taken from the hack_zurich database and fed through a template to generate questions and queries.\n",
    "We then convert these questions and queries in the required format and save them as \n",
    "- statbot/hackathon_hackzurich/handmade_data_dev.json\n",
    "- statbot/hackathon_hackzurich/handmade_data_train.json\n",
    "\n",
    "If you wish to then preprocess these generated data, copy the handmade_data_xxx.json from statbot to valuenet:\n",
    "- valuenet/data/hack_zurich/handmade_training_data/handmade_data_dev.json'\n",
    "- valuenet/data/hack_zurich/handmade_training_data/handmade_data_train.json'\n",
    "\n",
    "You are now ready to preprocess the dataset by running the following steps."
   ]
  },
  {
   "cell_type": "markdown",
   "id": "9cad6d4e",
   "metadata": {},
   "source": [
    "**Note**: If you decide to create your own query template, make sure to be very careful of the syntax and stay close to the one in the example notebook as valuenet codebase is quite sensible to the queries. For instance, \n",
    "- as it tokenize the SQL queries based on spaces, make sure to always add spaces everywhere (T1.year=2006 will error and sould be replaced with T1.year = 2006)\n",
    "- always put the keyword 'AS' when using shortcut names\n",
    "\n",
    "If you have errors in the next step, it is probably because of one of this reason. If error persist, check the effect of the function `tokenize()` in `valuenet/src/spider/test_suite_eval/process_sql.py` and adapt the codebase."
   ]
  },
  {
   "cell_type": "markdown",
   "id": "396131fa",
   "metadata": {},
   "source": [
    "## Transform into Spider representation"
   ]
  },
  {
   "cell_type": "code",
   "execution_count": null,
   "id": "8763d728",
   "metadata": {},
   "outputs": [],
   "source": [
    "%run src/tools/training_data_builder/training_data_builder.py --data hack_zurich"
   ]
  },
  {
   "cell_type": "markdown",
   "id": "b5b9a228",
   "metadata": {},
   "source": [
    "You will now find your custom data in the two files [data/hack_zurich/original/train.json](data/hack_zurich/original/train.json) and [data/hack_zurich/original/dev.json](data/hack_zurich/original/dev.json)."
   ]
  },
  {
   "cell_type": "markdown",
   "id": "8f8e3eef",
   "metadata": {},
   "source": [
    "## Extract Value Candidates using Named Entity Recognition"
   ]
  },
  {
   "cell_type": "code",
   "execution_count": null,
   "id": "f34d1388",
   "metadata": {},
   "outputs": [],
   "source": [
    "%run src/named_entity_recognition/api_ner/extract_values.py --data_path=data/hack_zurich/original/train.json --output_path=data/hack_zurich/ner_train.json --ner_api_secret={NER_API_SECRET}"
   ]
  },
  {
   "cell_type": "code",
   "execution_count": null,
   "id": "b1da9c12",
   "metadata": {},
   "outputs": [],
   "source": [
    "%run src/named_entity_recognition/api_ner/extract_values.py --data_path=data/hack_zurich/original/dev.json --output_path=data/hack_zurich/ner_dev.json --ner_api_secret={NER_API_SECRET}"
   ]
  },
  {
   "cell_type": "markdown",
   "id": "dafef4a0",
   "metadata": {},
   "source": [
    "## Extract the ground truth values from the SQL query"
   ]
  },
  {
   "cell_type": "code",
   "execution_count": null,
   "id": "beda8214",
   "metadata": {},
   "outputs": [],
   "source": [
    "%run src/tools/get_values_from_sql.py --data_path data/hack_zurich/original/train.json --table_path data/hack_zurich/original/tables.json --ner_path data/hack_zurich/ner_train.json\n",
    "%run src/tools/get_values_from_sql.py --data_path data/hack_zurich/original/dev.json --table_path data/hack_zurich/original/tables.json --ner_path data/hack_zurich/ner_dev.json"
   ]
  },
  {
   "cell_type": "markdown",
   "id": "e9ccd859",
   "metadata": {},
   "source": [
    "This last script doesn't create a new file, but adds the ground truth values to the *ner_dev.json* and *ner_train.json* files, see the new attribute *values*:\n",
    "\n",
    "```json\n",
    "    \"values\": [\n",
    "      \"Wetzikon\",\n",
    "      \"2016\"\n",
    "    ]\n",
    "```"
   ]
  },
  {
   "cell_type": "markdown",
   "id": "74a9de08",
   "metadata": {},
   "source": [
    "## Pre-processing"
   ]
  },
  {
   "cell_type": "code",
   "execution_count": null,
   "id": "35d92250",
   "metadata": {},
   "outputs": [],
   "source": [
    "%run src/preprocessing/pre_process.py --data_path=data/hack_zurich/original/train.json --ner_data_path=data/hack_zurich/ner_train.json --table_path=data/hack_zurich/original/tables.json --output=data/hack_zurich/preprocessed_train.json --database_host={DB_HOST} --database_port={DB_PORT} --database_user={DB_USER} --database_password={DB_PW} --database_schema={DB_SCHEMA}"
   ]
  },
  {
   "cell_type": "code",
   "execution_count": null,
   "id": "6da70e92",
   "metadata": {},
   "outputs": [],
   "source": [
    "%run src/preprocessing/pre_process.py --data_path=data/hack_zurich/original/dev.json --ner_data_path=data/hack_zurich/ner_dev.json --table_path=data/hack_zurich/original/tables.json --output=data/hack_zurich/preprocessed_dev.json --database_host={DB_HOST} --database_port={DB_PORT} --database_user={DB_USER} --database_password={DB_PW} --database_schema={DB_SCHEMA}"
   ]
  },
  {
   "cell_type": "markdown",
   "id": "fb973f3f",
   "metadata": {},
   "source": [
    "## Modelling JOINs and SQL-to-SemQL"
   ]
  },
  {
   "cell_type": "markdown",
   "id": "dd2b3fec",
   "metadata": {},
   "source": [
    "We start by modeling some JOINs as filters (minor importance, has most probably no effect on your data - you might skip it)"
   ]
  },
  {
   "cell_type": "code",
   "execution_count": null,
   "id": "4a198910",
   "metadata": {},
   "outputs": [],
   "source": [
    "%run src/preprocessing/model_joins_as_filter.py --data_path=data/hack_zurich/preprocessed_train.json --table_path=data/hack_zurich/original/tables.json --output=data/hack_zurich/preprocessed_with_joins_train.json "
   ]
  },
  {
   "cell_type": "code",
   "execution_count": null,
   "id": "a148951b",
   "metadata": {},
   "outputs": [],
   "source": [
    "%run src/preprocessing/model_joins_as_filter.py --data_path=data/hack_zurich/preprocessed_dev.json --table_path=data/hack_zurich/original/tables.json --output=data/hack_zurich/preprocessed_with_joins_dev.json "
   ]
  },
  {
   "cell_type": "markdown",
   "id": "61107803",
   "metadata": {},
   "source": [
    "And then transform SQL to SemQL"
   ]
  },
  {
   "cell_type": "code",
   "execution_count": null,
   "id": "d5b8ba19",
   "metadata": {},
   "outputs": [],
   "source": [
    "%run src/preprocessing/sql2SemQL.py --data_path data/hack_zurich/preprocessed_with_joins_train.json --table_path data/hack_zurich/original/tables.json --output data/hack_zurich/train.json"
   ]
  },
  {
   "cell_type": "code",
   "execution_count": null,
   "id": "87bd5881",
   "metadata": {},
   "outputs": [],
   "source": [
    "%run src/preprocessing/sql2SemQL.py --data_path data/hack_zurich/preprocessed_with_joins_dev.json --table_path data/hack_zurich/original/tables.json --output data/hack_zurich/dev.json "
   ]
  },
  {
   "cell_type": "markdown",
   "id": "7ae72b98",
   "metadata": {},
   "source": [
    "You should now be able to **train** with the [train-01.ipynb](https://github.com/hack-with-admin-ch/aws-sagemaker-notebook-valuenet/blob/main/train-01.ipynb)."
   ]
  },
  {
   "cell_type": "code",
   "execution_count": null,
   "id": "ce2a1cdc",
   "metadata": {},
   "outputs": [],
   "source": []
  }
 ],
 "metadata": {
  "kernelspec": {
   "display_name": "conda_valuenet",
   "language": "python",
   "name": "conda_valuenet"
  },
  "language_info": {
   "codemirror_mode": {
    "name": "ipython",
    "version": 3
   },
   "file_extension": ".py",
   "mimetype": "text/x-python",
   "name": "python",
   "nbconvert_exporter": "python",
   "pygments_lexer": "ipython3",
   "version": "3.8.12"
  }
 },
 "nbformat": 4,
 "nbformat_minor": 5
}
